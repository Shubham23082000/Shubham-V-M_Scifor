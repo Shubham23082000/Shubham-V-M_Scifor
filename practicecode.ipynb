{
  "nbformat": 4,
  "nbformat_minor": 0,
  "metadata": {
    "colab": {
      "provenance": []
    },
    "kernelspec": {
      "name": "python3",
      "display_name": "Python 3"
    },
    "language_info": {
      "name": "python"
    }
  },
  "cells": [
    {
      "cell_type": "markdown",
      "source": [
        "practicecode"
      ],
      "metadata": {
        "id": "omuNZAg6DEjI"
      }
    },
    {
      "cell_type": "code",
      "source": [
        "# # Write your code using if else statements to extract the quarter\n",
        "#if the date lies between 1st July, 2020 - 30th September, 2020,\n",
        "# the extracted quarter will be '2020-Q3'\n",
        "date_year = '2020'\n",
        "date_month = '08'\n",
        "\n",
        "# Store the quarter value in a string variable named quarter\n",
        "quarter='2020-08'\n",
        "if(date_month>='01')&(date_month<='03'):\n",
        "   print('quarter=',date_year+'-Q1')\n",
        "elif(date_month>='04')&(date_month<='06'):\n",
        "    print('quarter=',date_year+'-Q2')\n",
        "elif(date_month>='07')&(date_month<='09'):\n",
        "    print('quarter=',date_year+'-Q3') # Indent this line to align it within the elif block\n",
        "else:\n",
        "    print('quarter=',date_year)\n"
      ],
      "metadata": {
        "colab": {
          "base_uri": "https://localhost:8080/"
        },
        "id": "aEixZ_aoDEvg",
        "outputId": "91539c13-5660-4fae-9924-19e3661f56d4"
      },
      "execution_count": null,
      "outputs": [
        {
          "output_type": "stream",
          "name": "stdout",
          "text": [
            "quarter= 2020-Q3\n"
          ]
        }
      ]
    },
    {
      "cell_type": "markdown",
      "source": [],
      "metadata": {
        "id": "b2ptnELVDLSJ"
      }
    }
  ]
}