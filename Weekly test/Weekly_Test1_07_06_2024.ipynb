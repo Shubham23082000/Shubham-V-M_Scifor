{
  "nbformat": 4,
  "nbformat_minor": 0,
  "metadata": {
    "colab": {
      "provenance": [],
      "authorship_tag": "ABX9TyO88NZ6IQQW34dnkWdSBQnN",
      "include_colab_link": true
    },
    "kernelspec": {
      "name": "python3",
      "display_name": "Python 3"
    },
    "language_info": {
      "name": "python"
    }
  },
  "cells": [
    {
      "cell_type": "markdown",
      "metadata": {
        "id": "view-in-github",
        "colab_type": "text"
      },
      "source": [
        "<a href=\"https://colab.research.google.com/github/Shubham23082000/Shubham-V-M_Scifor/blob/main/Weekly_Test1_07_06_2024.ipynb\" target=\"_parent\"><img src=\"https://colab.research.google.com/assets/colab-badge.svg\" alt=\"Open In Colab\"/></a>"
      ]
    },
    {
      "cell_type": "code",
      "execution_count": null,
      "metadata": {
        "id": "kPu_FAD97nlL"
      },
      "outputs": [],
      "source": []
    },
    {
      "cell_type": "markdown",
      "source": [
        "Shubham VM MST03-0077  "
      ],
      "metadata": {
        "id": "GwNnU8aZ7sPv"
      }
    },
    {
      "cell_type": "markdown",
      "source": [
        "1. Explain Encapsulation with example and write python code"
      ],
      "metadata": {
        "id": "W-ra5_2e8w3H"
      }
    },
    {
      "cell_type": "markdown",
      "source": [
        ". Encapsulation in OOP refers to bundling data and methods within a class, where data is typically hidden from outside access.\n",
        "\n",
        ". It promotes data integrity and abstraction.\n",
        "\n",
        ". For example, a Student class might have attributes like name and age,in which age is private attribute that can be accessed through get method."
      ],
      "metadata": {
        "id": "N26Jyp59824d"
      }
    },
    {
      "cell_type": "code",
      "source": [
        "class Student:\n",
        "  def __init__(self,age,name):\n",
        "    self.__age=age #private attribute\n",
        "    self.name=name\n",
        "\n",
        "  def get_age(self): #public method to access private attribute\n",
        "    return self.__age\n",
        "\n",
        "s1=Student(23,'John')  #object creation\n",
        "print(s1.get_age())\n",
        "print(s1.name)"
      ],
      "metadata": {
        "colab": {
          "base_uri": "https://localhost:8080/"
        },
        "id": "Yjc93-Ab9Al9",
        "outputId": "133fe637-1f89-4a5e-967c-87adf6775f6b"
      },
      "execution_count": null,
      "outputs": [
        {
          "output_type": "stream",
          "name": "stdout",
          "text": [
            "23\n",
            "John\n"
          ]
        }
      ]
    },
    {
      "cell_type": "markdown",
      "source": [
        "2.Explain polymorphism with example and write python code"
      ],
      "metadata": {
        "id": "poyYOkbK9GqV"
      }
    },
    {
      "cell_type": "markdown",
      "source": [
        ". Polymorphism in OOP allows objects of different classes to be treated as objects of a common superclass.\n",
        ". It enables methods to do different things based on the object it is acting upon.\n",
        ". For example, both Dell and Hp class might have a ram_storage() method, but each implementation produces output(different gb)."
      ],
      "metadata": {
        "id": "Dc9vPtMY9JB1"
      }
    },
    {
      "cell_type": "code",
      "source": [
        "class Laptop:\n",
        "    def ram_storage(self):\n",
        "        return \"Different storage\"\n",
        "\n",
        "class Dell(Laptop):\n",
        "    def ram_storage(self):\n",
        "        return \"8gb\"\n",
        "\n",
        "class Hp(Laptop):\n",
        "    def ram_storage(self):\n",
        "        return \"16gb\"\n",
        "\n",
        "# Usage\n",
        "dell = Dell()\n",
        "hp = Hp()\n",
        "print(dell.ram_storage())\n",
        "print(hp.ram_storage())\n"
      ],
      "metadata": {
        "colab": {
          "base_uri": "https://localhost:8080/"
        },
        "id": "JVzdoKpN9YjN",
        "outputId": "53411427-380d-48f3-9579-e9fde1e5ce93"
      },
      "execution_count": null,
      "outputs": [
        {
          "output_type": "stream",
          "name": "stdout",
          "text": [
            "8gb\n",
            "16gb\n"
          ]
        }
      ]
    },
    {
      "cell_type": "markdown",
      "source": [
        "3.Explain single level inheritance with python code"
      ],
      "metadata": {
        "id": "ttGt8yEm9d5V"
      }
    },
    {
      "cell_type": "markdown",
      "source": [
        ". Single-level inheritance is a type of inheritance in object-oriented programming where a single child class inherits from another parent class.\n",
        "\n",
        ". There will be one child class and one parent class,allowing code reuse.\n",
        "\n",
        ". Eg: here exist a single parent class Vehicle and a single child class Truck. The Truck class inherits from the Vehicle class and has its own method drive()\n"
      ],
      "metadata": {
        "id": "ziS8iQL09ky1"
      }
    },
    {
      "cell_type": "code",
      "source": [
        "class Vehicle:\n",
        "    def start_engine(self):\n",
        "        print(\"Engine started\")\n",
        "\n",
        "class Truck(Vehicle):\n",
        "    def drive(self):\n",
        "        print(\"Heavy Driving\")\n",
        "\n",
        "# Creating an object of the Truck class\n",
        "my_truck = Truck()\n",
        "my_truck.start_engine()  # Inherited method from Vehicle class\n",
        "my_truck.drive()\n"
      ],
      "metadata": {
        "colab": {
          "base_uri": "https://localhost:8080/"
        },
        "id": "dpRqCDiB9vw9",
        "outputId": "2491c8c1-e248-4f5b-99b9-3de27be095a6"
      },
      "execution_count": null,
      "outputs": [
        {
          "output_type": "stream",
          "name": "stdout",
          "text": [
            "Engine started\n",
            "Heavy Driving\n"
          ]
        }
      ]
    },
    {
      "cell_type": "markdown",
      "source": [
        "4. Explain Multiple level inheritance with python code"
      ],
      "metadata": {
        "id": "URGtfYGY933k"
      }
    },
    {
      "cell_type": "markdown",
      "source": [
        ". In Multiple-level inheritance a class (Birds) inherits from another class (Animal), which in turn inherits from a base class (Mammal).\n",
        "\n",
        ". This creates a chain of inheritance, allowing the child class to inherit attributes and methods from both the intermediate and base classes."
      ],
      "metadata": {
        "id": "OtoPl4l5942N"
      }
    },
    {
      "cell_type": "code",
      "source": [
        "class Mammal:\n",
        "  def walk(self):\n",
        "    print(\"breath\")\n",
        "\n",
        "class Animal:\n",
        "  def walk(self):\n",
        "    print(\"move\")\n",
        "\n",
        "class Birds(Mammal,Animal):\n",
        "  def walk(self):\n",
        "    super().walk()\n",
        "    print(\"fly\")\n",
        "\n",
        "\n",
        "birds=Birds()\n",
        "mammal=Mammal()\n",
        "animal=Animal()\n",
        "\n",
        "\n",
        "birds.walk()#birds walk method(output- breath and fly)\n",
        "mammal.walk()#mammal walk method\n",
        "animal.walk()#animal walk method"
      ],
      "metadata": {
        "colab": {
          "base_uri": "https://localhost:8080/"
        },
        "id": "mc-r0rZD-BSW",
        "outputId": "b1ae9a57-1c8d-4274-d532-4cdd17128d02"
      },
      "execution_count": null,
      "outputs": [
        {
          "output_type": "stream",
          "name": "stdout",
          "text": [
            "breath\n",
            "fly\n",
            "breath\n",
            "move\n"
          ]
        }
      ]
    },
    {
      "cell_type": "markdown",
      "source": [
        "5. Expalin multilevel inheritance with python code"
      ],
      "metadata": {
        "id": "uGAhWLra-Fl-"
      }
    },
    {
      "cell_type": "markdown",
      "source": [
        ". In multi level inheritance subclass inherits from another subclass, which itself inherits from a base class.\n",
        "\n",
        ". Child class act as parent for another child class."
      ],
      "metadata": {
        "id": "UuAybKCk-Jd2"
      }
    },
    {
      "cell_type": "code",
      "source": [
        "class Animal:\n",
        "  def speak(self):\n",
        "    print(\"Speak\")\n",
        "\n",
        "class Lion(Animal):\n",
        "  def bark(self):\n",
        "    print(\"roar\")\n",
        "\n",
        "class Cub(Lion):\n",
        "  def cry(self):\n",
        "    print(\"cring\")\n",
        "\n",
        "#instance of cub\n",
        "cub=Cub()\n",
        "cub.speak()\n",
        "cub.bark()\n",
        "cub.cry()"
      ],
      "metadata": {
        "colab": {
          "base_uri": "https://localhost:8080/"
        },
        "id": "HHN5mTRx-bzt",
        "outputId": "718e4d85-aa3f-40bd-9527-cb7132f031c2"
      },
      "execution_count": null,
      "outputs": [
        {
          "output_type": "stream",
          "name": "stdout",
          "text": [
            "Speak\n",
            "roar\n",
            "cring\n"
          ]
        }
      ]
    },
    {
      "cell_type": "markdown",
      "source": [
        "6. What do you mean by conditional statement. Explain with python code"
      ],
      "metadata": {
        "id": "_5iEiXE8-jRb"
      }
    },
    {
      "cell_type": "markdown",
      "source": [
        ". Conditional statements (if, else, and elif) are fundamental programming constructs that allow you to control the flow of your program based on conditions that you specify.\n",
        "\n",
        ".They provide a way to make decisions in your program and execute different code based on those decisions."
      ],
      "metadata": {
        "id": "w-bJ-CLg-m4D"
      }
    },
    {
      "cell_type": "code",
      "source": [
        "age = int(input(\"Enter your age: \"))\n",
        "if age >= 18:\n",
        "    print(\"You are eligible to vote\")\n",
        "else:\n",
        "    print(\"You are not eligible to vote\")"
      ],
      "metadata": {
        "colab": {
          "base_uri": "https://localhost:8080/"
        },
        "id": "JHqMC9Ev-rTj",
        "outputId": "e526dfa7-cfbc-4849-d1a5-433c1eb5b214"
      },
      "execution_count": null,
      "outputs": [
        {
          "output_type": "stream",
          "name": "stdout",
          "text": [
            "Enter your age: 17\n",
            "You are not eligible to vote\n"
          ]
        }
      ]
    },
    {
      "cell_type": "markdown",
      "source": [
        "7.What do you mean bye decision making statement . Explain with python code."
      ],
      "metadata": {
        "id": "SXAZj4oe-ySb"
      }
    },
    {
      "cell_type": "markdown",
      "source": [
        "A decision-making statement in programming is used to make decisions based on certain conditions.\n",
        "\n",
        "They let programs decide what to do and run distinct code blocks according to predefined conditions."
      ],
      "metadata": {
        "id": "QZjLZvs8-0wL"
      }
    },
    {
      "cell_type": "code",
      "source": [
        "\n",
        "num = 12\n",
        "if num % 2 == 0:\n",
        "  print(\"The number is even.\")\n",
        "else:\n",
        "  print(\"The number is odd.\")"
      ],
      "metadata": {
        "colab": {
          "base_uri": "https://localhost:8080/"
        },
        "id": "UuxfmHcx-3zz",
        "outputId": "b734e798-37be-426e-ffac-1af129e6e55c"
      },
      "execution_count": null,
      "outputs": [
        {
          "output_type": "stream",
          "name": "stdout",
          "text": [
            "The number is even.\n"
          ]
        }
      ]
    },
    {
      "cell_type": "markdown",
      "source": [
        "8.Write a program of factorial in python"
      ],
      "metadata": {
        "id": "oqroy-J3-_N0"
      }
    },
    {
      "cell_type": "code",
      "source": [
        "def factorial(n):\n",
        "  if n==0:\n",
        "    return 1\n",
        "  else:\n",
        "    return n*factorial(n-1)\n",
        "\n",
        "num=int(input('Enter a number: '))\n",
        "print(factorial(num))\n"
      ],
      "metadata": {
        "colab": {
          "base_uri": "https://localhost:8080/"
        },
        "id": "eisY7Lqt_B9F",
        "outputId": "31dd2007-6146-4198-8e07-364755d45b48"
      },
      "execution_count": null,
      "outputs": [
        {
          "output_type": "stream",
          "name": "stdout",
          "text": [
            "Enter a number: 6\n",
            "720\n"
          ]
        }
      ]
    },
    {
      "cell_type": "markdown",
      "source": [
        "9. What do you understand by function explain with python code"
      ],
      "metadata": {
        "id": "O9N2gdJd_Lnl"
      }
    },
    {
      "cell_type": "markdown",
      "source": [
        "Functions in Python are blocks of reusable code designed to perform a specific task. They enhance code modularity and readability. They are defined using the def keyword followed by the function name and parameters"
      ],
      "metadata": {
        "id": "v3PBsSl4_PMO"
      }
    },
    {
      "cell_type": "code",
      "source": [
        "def function(a,b):\n",
        "  avearge=(a+b)/2\n",
        "  print(avearge)\n",
        "function(10,20)"
      ],
      "metadata": {
        "colab": {
          "base_uri": "https://localhost:8080/"
        },
        "id": "ksaAjHLE_U3N",
        "outputId": "7f254919-9def-4ccb-bb73-bd2e709b11b9"
      },
      "execution_count": null,
      "outputs": [
        {
          "output_type": "stream",
          "name": "stdout",
          "text": [
            "15.0\n"
          ]
        }
      ]
    },
    {
      "cell_type": "markdown",
      "source": [
        "10.How many pillers of oops have in python?"
      ],
      "metadata": {
        "id": "cnjkfjb6_ZV9"
      }
    },
    {
      "cell_type": "markdown",
      "source": [
        "In python , there are four pillers of OOPs:\n",
        "\n",
        "Inheritance\n",
        "\n",
        ". Inheritance in OOP allows a new class (subclass) to inherit attributes and methods from an existing class (superclass).\n",
        "\n",
        " . This promotes code reuse and establishes a hierarchical relationship between classes.\n",
        "\n",
        "Encapsulation\n",
        "\n",
        ". Encapsulation in OOP refers to bundling data and methods within a class, where data is typically hidden from outside access.\n",
        "\n",
        ". It promotes data integrity and abstraction.\n",
        "\n",
        "Polymorphism\n",
        "\n",
        ". Polymorphism in OOP allows objects of different classes to be treated as objects of a common superclass.\n",
        "\n",
        ". It enables methods to do different things based on the object it is acting upon.\n",
        "\n",
        "Abstraction\n",
        "\n",
        ". Abstraction involves hiding the complex implementation details and showing only the essential features of an object.\n",
        "\n",
        ". It focuses on what an object does rather than how it does it, simplifying the programming model and reducing complexity."
      ],
      "metadata": {
        "id": "6O4SMGPt_b0c"
      }
    },
    {
      "cell_type": "markdown",
      "source": [],
      "metadata": {
        "id": "3GDGqsBC_vfd"
      }
    }
  ]
}
