{
  "cells": [
    {
      "cell_type": "code",
      "execution_count": null,
      "metadata": {
        "colab": {
          "background_save": true,
          "base_uri": "https://localhost:8080/"
        },
        "id": "dVUeJXnui_wu",
        "outputId": "eee05f6c-fc9b-4b93-f3ae-f261f9fdc70b"
      },
      "outputs": [
        {
          "data": {
            "text/plain": [
              "{'first_name': 'John', 'last_name': 'Doe', 'id': '123'}"
            ]
          },
          "execution_count": 6,
          "metadata": {},
          "output_type": "execute_result"
        }
      ],
      "source": [
        "#ASSIGNMENT ON GIT(30-06-2024)\n",
        "\n",
        "#Create a function which takes in an encoded string\n",
        "# and returns a dictionary according to the following example:\n",
        "\n",
        "\n",
        "encoded_string='John000Doe000123'\n",
        "def encoded_string_dict(encoded_string):\n",
        "  data=encoded_string.split('0')\n",
        "  for i in range(data.count('')):\n",
        "    data.remove('')\n",
        "  # Define the dictionary within the function to access 'data'\n",
        "  dict_data={\"first_name\":str(data[0]),\"last_name\":str(data[1]),\"id\":str(data[2])}\n",
        "  return dict_data\n",
        "\n",
        "# Call the function with the defined variable 'encoded_string'\n",
        "encoded_string_dict(encoded_string)\n"
      ]
    }
  ],
  "metadata": {
    "colab": {
      "provenance": []
    },
    "kernelspec": {
      "display_name": "Python 3",
      "name": "python3"
    },
    "language_info": {
      "name": "python"
    }
  },
  "nbformat": 4,
  "nbformat_minor": 0
}