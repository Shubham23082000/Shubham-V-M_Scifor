{
  "nbformat": 4,
  "nbformat_minor": 0,
  "metadata": {
    "colab": {
      "provenance": [],
      "authorship_tag": "ABX9TyN4PWJt6XLwbrGPe4pcMPUR",
      "include_colab_link": true
    },
    "kernelspec": {
      "name": "python3",
      "display_name": "Python 3"
    },
    "language_info": {
      "name": "python"
    }
  },
  "cells": [
    {
      "cell_type": "markdown",
      "metadata": {
        "id": "view-in-github",
        "colab_type": "text"
      },
      "source": [
        "<a href=\"https://colab.research.google.com/github/Shubham23082000/Shubham-V-M_Scifor/blob/main/Polymorphism.ipynb\" target=\"_parent\"><img src=\"https://colab.research.google.com/assets/colab-badge.svg\" alt=\"Open In Colab\"/></a>"
      ]
    },
    {
      "cell_type": "markdown",
      "source": [
        "04-06-2024\n",
        "Polymorphism\n",
        "many forms\n",
        "\n",
        "only single function we are having is 'addition', but it exhibit many forms. in first giving addition , in second concatination of two string."
      ],
      "metadata": {
        "id": "Lp4Vjph3lJw6"
      }
    },
    {
      "cell_type": "code",
      "source": [
        "def addition(a,b):\n",
        "    s=a+b\n",
        "    return s\n",
        "\n",
        "addition(10,5)"
      ],
      "metadata": {
        "id": "xMVZesXtlLoP",
        "colab": {
          "base_uri": "https://localhost:8080/"
        },
        "outputId": "f0596839-deb6-4ba3-e477-aff6ea3d62bf"
      },
      "execution_count": null,
      "outputs": [
        {
          "output_type": "execute_result",
          "data": {
            "text/plain": [
              "15"
            ]
          },
          "metadata": {},
          "execution_count": 2
        }
      ]
    },
    {
      "cell_type": "code",
      "source": [
        "addition('ml','python')\n",
        "\n"
      ],
      "metadata": {
        "colab": {
          "base_uri": "https://localhost:8080/",
          "height": 36
        },
        "id": "N_Wt0oE4dzyu",
        "outputId": "b3a6d3c9-5fb4-41cb-d147-ae6035d31fa8"
      },
      "execution_count": null,
      "outputs": [
        {
          "output_type": "execute_result",
          "data": {
            "text/plain": [
              "'mlpython'"
            ],
            "application/vnd.google.colaboratory.intrinsic+json": {
              "type": "string"
            }
          },
          "metadata": {},
          "execution_count": 3
        }
      ]
    },
    {
      "cell_type": "code",
      "source": [],
      "metadata": {
        "id": "vNTQhW6actLe"
      },
      "execution_count": null,
      "outputs": []
    }
  ]
}