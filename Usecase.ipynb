{
  "nbformat": 4,
  "nbformat_minor": 0,
  "metadata": {
    "colab": {
      "provenance": [],
      "authorship_tag": "ABX9TyPa2NgNR7PPkXPeT7vvFO3N",
      "include_colab_link": true
    },
    "kernelspec": {
      "name": "python3",
      "display_name": "Python 3"
    },
    "language_info": {
      "name": "python"
    }
  },
  "cells": [
    {
      "cell_type": "markdown",
      "metadata": {
        "id": "view-in-github",
        "colab_type": "text"
      },
      "source": [
        "<a href=\"https://colab.research.google.com/github/Shubham23082000/Shubham-V-M_Scifor/blob/main/Usecase.ipynb\" target=\"_parent\"><img src=\"https://colab.research.google.com/assets/colab-badge.svg\" alt=\"Open In Colab\"/></a>"
      ]
    },
    {
      "cell_type": "code",
      "execution_count": null,
      "metadata": {
        "id": "EWHY5_5-4JHO"
      },
      "outputs": [],
      "source": []
    },
    {
      "cell_type": "markdown",
      "source": [
        "Use case of Oops You have to make a Bank class which have two case executing 1. Withdrawal 2. Deposit And the Edge case will be ATM  Pin Verification In details Once your ATM pin will get verified then only you can withdrawal and it also shows withdrawal amount as well existing balance And same goes for second case, after verification of pin your deposition of amount take place it should show deposited amount and existing balance after deposit take place And if you encounter incorrect pin then your program should give the output invalid pin"
      ],
      "metadata": {
        "id": "F-X1FyZu4KEn"
      }
    },
    {
      "cell_type": "code",
      "source": [
        "class Bank:\n",
        "    def __init__(self, pin, balance=0):\n",
        "        self.pin = pin\n",
        "        self.balance = balance\n",
        "\n",
        "    def verify_pin(self, pin):\n",
        "        if pin == self.pin:\n",
        "            return True\n",
        "        else:\n",
        "            return False\n",
        "\n",
        "    def withdraw(self, pin, amount):\n",
        "        if self.verify_pin(pin):\n",
        "            if amount > self.balance:\n",
        "                print(\"Insufficient balance\")\n",
        "            else:\n",
        "                self.balance -= amount\n",
        "                print(f\"Withdrawal of {amount} successful. Remaining balance is {self.balance}\")\n",
        "        else:\n",
        "            print(\"Invalid pin\")\n",
        "\n",
        "    def deposit(self, pin, amount):\n",
        "        if self.verify_pin(pin):\n",
        "            self.balance += amount\n",
        "            print(f\"Deposit of {amount} successful. New balance is {self.balance}\")\n",
        "        else:\n",
        "            print(\"Invalid pin\")\n",
        "\n",
        "\n",
        "# Test the class\n",
        "bank = Bank(1234, 1000)\n",
        "\n",
        "# Withdrawal\n",
        "bank.withdraw(1234, 500)  # Valid pin, sufficient balance\n",
        "bank.withdraw(1234, 1500)  # Valid pin, insufficient balance\n",
        "bank.withdraw(1111, 500)  # Invalid pin\n",
        "\n",
        "# Deposit\n",
        "bank.deposit(1234, 500)  # Valid pin\n",
        "bank.deposit(1111, 500)  # Invalid pin"
      ],
      "metadata": {
        "colab": {
          "base_uri": "https://localhost:8080/"
        },
        "id": "hXLp7CqzDfDN",
        "outputId": "40e17f08-d62c-4cb4-e502-4799b82fd719"
      },
      "execution_count": null,
      "outputs": [
        {
          "output_type": "stream",
          "name": "stdout",
          "text": [
            "Withdrawal of 500 successful. Remaining balance is 500\n",
            "Insufficient balance\n",
            "Invalid pin\n",
            "Deposit of 500 successful. New balance is 1000\n",
            "Invalid pin\n"
          ]
        }
      ]
    },
    {
      "cell_type": "code",
      "source": [
        "class Bank:\n",
        "    def __init__(self, pin, balance):\n",
        "        self.pin = pin\n",
        "        self.balance = balance\n",
        "\n",
        "    def verify_pin(self, pin_entered):\n",
        "        return pin_entered == self.pin\n",
        "\n",
        "    def withdraw_money(self, amount, pin_entered):\n",
        "        if not self.verify_pin(pin_entered):\n",
        "            return \"Invalid pin\"\n",
        "        if amount > self.balance:\n",
        "            return \"Insufficient funds\"\n",
        "        self.balance -= amount\n",
        "        return f\"Withdrawal amount: {amount}, Existing balance: {self.balance}\"\n",
        "\n",
        "    def deposit_money(self, amount, pin_entered):\n",
        "        if not self.verify_pin(pin_entered):\n",
        "            return \"Invalid pin\"\n",
        "        self.balance += amount\n",
        "        return f\"Deposited amount: {amount}, Existing balance: {self.balance}\"\n",
        "\n",
        "# bank account with ATM pin '1234' and initial balance of 10000\n",
        "bank_account = Bank('1111', 10000)\n",
        "\n",
        "#  withdrawal\n",
        "enter_pin = input(\"Enter your pin to withdraw: \")\n",
        "enter_amount = int(input(\"Enter amount to withdraw: \"))\n",
        "print(bank_account.withdraw_money(enter_amount, enter_pin))\n",
        "\n",
        "#  deposit\n",
        "enter_pin = input(\"Enter your pin to deposit: \")\n",
        "enter_amount = int(input(\"Enter amount to deposit: \"))\n",
        "print(bank_account.deposit_money(enter_amount, enter_pin))"
      ],
      "metadata": {
        "id": "XUYQ5hXy4Ni-",
        "colab": {
          "base_uri": "https://localhost:8080/",
          "height": 356
        },
        "outputId": "221ae5cf-f996-45c0-c364-5cfce16922a2"
      },
      "execution_count": null,
      "outputs": [
        {
          "output_type": "error",
          "ename": "KeyboardInterrupt",
          "evalue": "Interrupted by user",
          "traceback": [
            "\u001b[0;31m---------------------------------------------------------------------------\u001b[0m",
            "\u001b[0;31mKeyboardInterrupt\u001b[0m                         Traceback (most recent call last)",
            "\u001b[0;32m<ipython-input-4-3fe3bb6616db>\u001b[0m in \u001b[0;36m<cell line: 28>\u001b[0;34m()\u001b[0m\n\u001b[1;32m     26\u001b[0m \u001b[0;31m#  withdrawal\u001b[0m\u001b[0;34m\u001b[0m\u001b[0;34m\u001b[0m\u001b[0m\n\u001b[1;32m     27\u001b[0m \u001b[0menter_pin\u001b[0m \u001b[0;34m=\u001b[0m \u001b[0minput\u001b[0m\u001b[0;34m(\u001b[0m\u001b[0;34m\"Enter your pin to withdraw: \"\u001b[0m\u001b[0;34m)\u001b[0m\u001b[0;34m\u001b[0m\u001b[0;34m\u001b[0m\u001b[0m\n\u001b[0;32m---> 28\u001b[0;31m \u001b[0menter_amount\u001b[0m \u001b[0;34m=\u001b[0m \u001b[0mint\u001b[0m\u001b[0;34m(\u001b[0m\u001b[0minput\u001b[0m\u001b[0;34m(\u001b[0m\u001b[0;34m\"Enter amount to withdraw: \"\u001b[0m\u001b[0;34m)\u001b[0m\u001b[0;34m)\u001b[0m\u001b[0;34m\u001b[0m\u001b[0;34m\u001b[0m\u001b[0m\n\u001b[0m\u001b[1;32m     29\u001b[0m \u001b[0mprint\u001b[0m\u001b[0;34m(\u001b[0m\u001b[0mbank_account\u001b[0m\u001b[0;34m.\u001b[0m\u001b[0mwithdraw_money\u001b[0m\u001b[0;34m(\u001b[0m\u001b[0menter_amount\u001b[0m\u001b[0;34m,\u001b[0m \u001b[0menter_pin\u001b[0m\u001b[0;34m)\u001b[0m\u001b[0;34m)\u001b[0m\u001b[0;34m\u001b[0m\u001b[0;34m\u001b[0m\u001b[0m\n\u001b[1;32m     30\u001b[0m \u001b[0;34m\u001b[0m\u001b[0m\n",
            "\u001b[0;32m/usr/local/lib/python3.10/dist-packages/ipykernel/kernelbase.py\u001b[0m in \u001b[0;36mraw_input\u001b[0;34m(self, prompt)\u001b[0m\n\u001b[1;32m    849\u001b[0m                 \u001b[0;34m\"raw_input was called, but this frontend does not support input requests.\"\u001b[0m\u001b[0;34m\u001b[0m\u001b[0;34m\u001b[0m\u001b[0m\n\u001b[1;32m    850\u001b[0m             )\n\u001b[0;32m--> 851\u001b[0;31m         return self._input_request(str(prompt),\n\u001b[0m\u001b[1;32m    852\u001b[0m             \u001b[0mself\u001b[0m\u001b[0;34m.\u001b[0m\u001b[0m_parent_ident\u001b[0m\u001b[0;34m,\u001b[0m\u001b[0;34m\u001b[0m\u001b[0;34m\u001b[0m\u001b[0m\n\u001b[1;32m    853\u001b[0m             \u001b[0mself\u001b[0m\u001b[0;34m.\u001b[0m\u001b[0m_parent_header\u001b[0m\u001b[0;34m,\u001b[0m\u001b[0;34m\u001b[0m\u001b[0;34m\u001b[0m\u001b[0m\n",
            "\u001b[0;32m/usr/local/lib/python3.10/dist-packages/ipykernel/kernelbase.py\u001b[0m in \u001b[0;36m_input_request\u001b[0;34m(self, prompt, ident, parent, password)\u001b[0m\n\u001b[1;32m    893\u001b[0m             \u001b[0;32mexcept\u001b[0m \u001b[0mKeyboardInterrupt\u001b[0m\u001b[0;34m:\u001b[0m\u001b[0;34m\u001b[0m\u001b[0;34m\u001b[0m\u001b[0m\n\u001b[1;32m    894\u001b[0m                 \u001b[0;31m# re-raise KeyboardInterrupt, to truncate traceback\u001b[0m\u001b[0;34m\u001b[0m\u001b[0;34m\u001b[0m\u001b[0m\n\u001b[0;32m--> 895\u001b[0;31m                 \u001b[0;32mraise\u001b[0m \u001b[0mKeyboardInterrupt\u001b[0m\u001b[0;34m(\u001b[0m\u001b[0;34m\"Interrupted by user\"\u001b[0m\u001b[0;34m)\u001b[0m \u001b[0;32mfrom\u001b[0m \u001b[0;32mNone\u001b[0m\u001b[0;34m\u001b[0m\u001b[0;34m\u001b[0m\u001b[0m\n\u001b[0m\u001b[1;32m    896\u001b[0m             \u001b[0;32mexcept\u001b[0m \u001b[0mException\u001b[0m \u001b[0;32mas\u001b[0m \u001b[0me\u001b[0m\u001b[0;34m:\u001b[0m\u001b[0;34m\u001b[0m\u001b[0;34m\u001b[0m\u001b[0m\n\u001b[1;32m    897\u001b[0m                 \u001b[0mself\u001b[0m\u001b[0;34m.\u001b[0m\u001b[0mlog\u001b[0m\u001b[0;34m.\u001b[0m\u001b[0mwarning\u001b[0m\u001b[0;34m(\u001b[0m\u001b[0;34m\"Invalid Message:\"\u001b[0m\u001b[0;34m,\u001b[0m \u001b[0mexc_info\u001b[0m\u001b[0;34m=\u001b[0m\u001b[0;32mTrue\u001b[0m\u001b[0;34m)\u001b[0m\u001b[0;34m\u001b[0m\u001b[0;34m\u001b[0m\u001b[0m\n",
            "\u001b[0;31mKeyboardInterrupt\u001b[0m: Interrupted by user"
          ]
        }
      ]
    }
  ]
}