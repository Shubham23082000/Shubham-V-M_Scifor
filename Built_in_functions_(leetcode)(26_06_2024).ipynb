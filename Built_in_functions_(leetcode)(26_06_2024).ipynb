{
  "nbformat": 4,
  "nbformat_minor": 0,
  "metadata": {
    "colab": {
      "provenance": [],
      "authorship_tag": "ABX9TyPia70esLQqQLv3qn62Vwt+",
      "include_colab_link": true
    },
    "kernelspec": {
      "name": "python3",
      "display_name": "Python 3"
    },
    "language_info": {
      "name": "python"
    }
  },
  "cells": [
    {
      "cell_type": "markdown",
      "metadata": {
        "id": "view-in-github",
        "colab_type": "text"
      },
      "source": [
        "<a href=\"https://colab.research.google.com/github/Shubham23082000/Shubham-V-M_Scifor/blob/main/Built_in_functions_(leetcode)(26_06_2024).ipynb\" target=\"_parent\"><img src=\"https://colab.research.google.com/assets/colab-badge.svg\" alt=\"Open In Colab\"/></a>"
      ]
    },
    {
      "cell_type": "markdown",
      "source": [
        "**Built-in functions (leetcode)(26-06-2024)**"
      ],
      "metadata": {
        "id": "yVOpdrRoE75q"
      }
    },
    {
      "cell_type": "markdown",
      "source": [
        " 58. Given a string s consisting of words and spaces, return the length of the last word in the string.\n",
        "A word is a maximal substring consisting of non-space characters only. Example 1:\n",
        "\n",
        "Input: s = \"Hello World\" Output: 5 Explanation: The last word is \"World\" with length 5. Example 2:\n",
        "\n",
        "Input: s = \" fly me to the moon \" Output: 4 Explanation: The last word is \"moon\" with length 4. Example 3:\n",
        "\n",
        "Input: s = \"luffy is still joyboy\" Output: 6 Explanation: The last word is \"joyboy\" with length 6.\n",
        "\n",
        "Constraints:\n",
        "\n",
        "1 <= s.length <= 104 s consists of only English letters and spaces ' '. There will be at least one word in s."
      ],
      "metadata": {
        "id": "1MV9_zw3ETp-"
      }
    },
    {
      "cell_type": "code",
      "source": [
        "def lengthOfLastWord(s: str) -> int:\n",
        "    # Trim leading and trailing whitespace\n",
        "    s = s.strip()\n",
        "\n",
        "    # Split by spaces and get the last word\n",
        "    words = s.split()\n",
        "    last_word = words[-1]\n",
        "\n",
        "    # Return the length of the last word\n",
        "    return len(last_word)\n",
        "\n",
        "# Example usage:\n",
        "print(lengthOfLastWord(\"Hello World\"))        # Output: 5\n",
        "print(lengthOfLastWord(\" fly me to the moon \"))   # Output: 4\n",
        "print(lengthOfLastWord(\"luffy is still joyboy\"))  # Output: 6\n"
      ],
      "metadata": {
        "colab": {
          "base_uri": "https://localhost:8080/"
        },
        "id": "rB4ncwvJEfc2",
        "outputId": "1788d101-c60b-4a30-83a6-a9ce961f9fe3"
      },
      "execution_count": null,
      "outputs": [
        {
          "output_type": "stream",
          "name": "stdout",
          "text": [
            "5\n",
            "4\n",
            "6\n"
          ]
        }
      ]
    },
    {
      "cell_type": "markdown",
      "source": [
        " 709. To lower case Given a string s, return the string after replacing every uppercase letter with the same lowercase letter.\n",
        "Example 1: Input: s = \"Hello\" Output: \"hello\"\n",
        "\n",
        "Example 2: Input: s = \"here\" Output: \"here\"\n",
        "\n",
        "Example 3: Input: s = \"LOVELY\" Output: \"lovely\"\n",
        "\n",
        "Constraints:\n",
        "\n",
        "1 <= s.length <= 100 s consists of printable ASCII characters."
      ],
      "metadata": {
        "id": "7l14V2RGEt_d"
      }
    },
    {
      "cell_type": "code",
      "source": [
        "def toLowerCase(s: str) -> str:\n",
        "    return s.lower()\n",
        "\n",
        "# Example usage:\n",
        "print(toLowerCase(\"Hello\"))   # Output: \"hello\"\n",
        "print(toLowerCase(\"here\"))    # Output: \"here\"\n",
        "print(toLowerCase(\"LOVELY\"))  # Output: \"lovely\"\n"
      ],
      "metadata": {
        "colab": {
          "base_uri": "https://localhost:8080/"
        },
        "id": "SnhB_54mEyRs",
        "outputId": "4e1bd036-0d30-46ec-d689-06905233f0a6"
      },
      "execution_count": null,
      "outputs": [
        {
          "output_type": "stream",
          "name": "stdout",
          "text": [
            "hello\n",
            "here\n",
            "lovely\n"
          ]
        }
      ]
    }
  ]
}