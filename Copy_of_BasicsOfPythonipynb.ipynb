{
  "nbformat": 4,
  "nbformat_minor": 0,
  "metadata": {
    "colab": {
      "provenance": [],
      "include_colab_link": true
    },
    "kernelspec": {
      "name": "python3",
      "display_name": "Python 3"
    },
    "language_info": {
      "name": "python"
    }
  },
  "cells": [
    {
      "cell_type": "markdown",
      "metadata": {
        "id": "view-in-github",
        "colab_type": "text"
      },
      "source": [
        "<a href=\"https://colab.research.google.com/github/Shubham23082000/Shubham-V-M_Scifor/blob/main/Copy_of_BasicsOfPythonipynb.ipynb\" target=\"_parent\"><img src=\"https://colab.research.google.com/assets/colab-badge.svg\" alt=\"Open In Colab\"/></a>"
      ]
    },
    {
      "cell_type": "code",
      "execution_count": null,
      "metadata": {
        "colab": {
          "base_uri": "https://localhost:8080/"
        },
        "id": "YtYT02lc0jM4",
        "outputId": "2eba4272-bd8e-4df9-a0ca-22e5af4eb33c"
      },
      "outputs": [
        {
          "output_type": "stream",
          "name": "stdout",
          "text": [
            "Hello World\n"
          ]
        }
      ],
      "source": [
        "print(\"Hello World\")"
      ]
    },
    {
      "cell_type": "code",
      "source": [
        "#VARIABLE - PLACEHOLDER / STORE DATA\n",
        "\n",
        "message = \"Hello World\"\n",
        "print(message)\n"
      ],
      "metadata": {
        "colab": {
          "base_uri": "https://localhost:8080/"
        },
        "id": "badca2Yd2lnE",
        "outputId": "62380938-e8b5-4565-d222-2d344d447426"
      },
      "execution_count": null,
      "outputs": [
        {
          "output_type": "stream",
          "name": "stdout",
          "text": [
            "Hello World\n"
          ]
        }
      ]
    },
    {
      "cell_type": "code",
      "source": [
        "#by default = string\n",
        "#DATA TYPES -\n",
        "\n",
        "# INTEGER = NUMERICAL VALUE = WHOLE NO = 1,2,3....\n",
        "# FLOAT = DECIMAL = 0.3, 0.5 , 0.8....\n",
        "# CHARACTER = a,b,c || A,B,C\n",
        "# STRING = COLLECTION OF CHARACTERS = Python, jupyter\n",
        "#BOLLEAN = YES OR NO , 0 OR 1\n"
      ],
      "metadata": {
        "id": "yyWalFKZ3kSr"
      },
      "execution_count": null,
      "outputs": []
    },
    {
      "cell_type": "code",
      "source": [
        "#CONDITIONAL MAKING STATEMENTS\n",
        "#IT HELPS US TO MAKE DECISION BASED ON CERTAIN CONDITIONS\n",
        "\n",
        "#TYPES OF CONDITIONAL STATEMENTS\n",
        "\n",
        "#1-IF-ELSE\n",
        "#2- NESTED - IF - STATEMENT\n",
        "#3 - MATCH CASE STATEMENT"
      ],
      "metadata": {
        "id": "cTH-0RbB4M7Z"
      },
      "execution_count": null,
      "outputs": []
    },
    {
      "cell_type": "code",
      "source": [
        "#IF-ELSE\n",
        "\n",
        "#IF CONDITION 1 :\n",
        "      STATEMENT 1\n",
        "#ELSE :\n",
        "    STATEMENT 2\n"
      ],
      "metadata": {
        "id": "vxSLLluZ6baR"
      },
      "execution_count": null,
      "outputs": []
    },
    {
      "cell_type": "code",
      "source": [
        "#EXAMPLE - IF-ELSE\n",
        "i = 5\n",
        "\n",
        "if (i>15):\n",
        "  print(\"20 is less than 15\")\n",
        "else :\n",
        "  print(\"stop\")"
      ],
      "metadata": {
        "colab": {
          "base_uri": "https://localhost:8080/"
        },
        "id": "ydNOsjrB63yX",
        "outputId": "64e4f58a-d5cc-4e4a-c0a0-62bab3abd7d9"
      },
      "execution_count": null,
      "outputs": [
        {
          "output_type": "stream",
          "name": "stdout",
          "text": [
            "stop\n"
          ]
        }
      ]
    },
    {
      "cell_type": "code",
      "source": [
        "#NESTED - IF\n",
        "\n",
        "# IF (CONDITION):\n",
        "# {\n",
        "#     IF\n",
        "#     STATEMENT WILL GET EXECUTED\n",
        "# }"
      ],
      "metadata": {
        "id": "RX-9hnwJ7nbP"
      },
      "execution_count": null,
      "outputs": []
    },
    {
      "cell_type": "code",
      "source": [
        "#NESTED - IF\n",
        "\n",
        "# IF (CONDITION):\n",
        "# {\n",
        "#     ELIF :\n",
        "#     STATEMENT WILL GET EXECUTED\n",
        "      ELIF :\n",
        "      STATEMENT:\n",
        "      ELSE :\n",
        "      STATEMENT :\n",
        "# }"
      ],
      "metadata": {
        "id": "EYMdEmSHDpvB"
      },
      "execution_count": null,
      "outputs": []
    },
    {
      "cell_type": "code",
      "source": [
        "value = 30\n",
        "\n",
        "if value <10 :\n",
        "  print(\"value is less than 10\")\n",
        "\n",
        "if value>20:\n",
        "  print(\"value ias greater than 20\")"
      ],
      "metadata": {
        "colab": {
          "base_uri": "https://localhost:8080/"
        },
        "id": "XD3fiJXy8UEt",
        "outputId": "703f86c2-4c3a-44fd-f1f5-73072f91e609"
      },
      "execution_count": null,
      "outputs": [
        {
          "output_type": "stream",
          "name": "stdout",
          "text": [
            "value ias greater than 20\n"
          ]
        }
      ]
    },
    {
      "cell_type": "code",
      "source": [
        "# #FUNCTION = THAT HELPS US TO RE-USE THE SAME PIECE OF CODE AGAIN AND AGAIN WITHOUT EXPLICITLY DEFINITING WHENEVER WE NEED\n",
        "# WE CALL THE FUNCTION WHENVER WE NEED IT INSTEAD OF MAKING IT SECOND TIME\n",
        "\n",
        "#ADD\n",
        "\n",
        "#SUBTRACTION\n",
        "\n",
        "#MULTIPLICATION\n",
        "\n",
        "#DIVISION\n",
        "\n",
        "#ADD - CODE AGAIN? (WITHOUT FUNCTION, AGAIN - MARK)\n",
        "\n",
        "#ADD - CODE AGAIN? (FUNCTON, ONLY BY THE NAME YOU CAN CALL FUNCTION)\n",
        "\n",
        "#DIVISON - CALL MY FUNCTION OF DIVISON\n",
        "\n",
        "\n",
        "#HOW TO INITILAIZE/ MAKE FUNCTION ?\n",
        "\n",
        "# def functioname\n"
      ],
      "metadata": {
        "id": "SD7owNIB9Bmt"
      },
      "execution_count": null,
      "outputs": []
    },
    {
      "cell_type": "code",
      "source": [
        "# def apporv:\n",
        "#   .......\n",
        "#   .......\n",
        "#   logic\n",
        "#   .......\n",
        "#   ......\n",
        "\n",
        "# call apporv"
      ],
      "metadata": {
        "id": "jkobpmaW_HTv"
      },
      "execution_count": null,
      "outputs": []
    },
    {
      "cell_type": "code",
      "source": [
        "def add(a,b,c):\n",
        "  return a+b+c\n",
        "\n",
        "result = add (5,3,2)\n",
        "print(result)"
      ],
      "metadata": {
        "colab": {
          "base_uri": "https://localhost:8080/"
        },
        "id": "h1tZfB4l_Wdc",
        "outputId": "3c2bfdf1-5e59-4756-921c-24786406bbbf"
      },
      "execution_count": null,
      "outputs": [
        {
          "output_type": "stream",
          "name": "stdout",
          "text": [
            "10\n"
          ]
        }
      ]
    },
    {
      "cell_type": "code",
      "source": [
        "#SWITCH CASE\n",
        "\n",
        "def number(a):\n",
        "  match a :\n",
        "    case 0 :\n",
        "      return \"zero\"\n",
        "    case 1:\n",
        "      return \"one\"\n",
        "    case 2:\n",
        "      return \"two\"\n",
        "    case default :\n",
        "      return \"defaultstatement\"\n",
        "\n",
        "head = number(5)\n",
        "print(head)\n"
      ],
      "metadata": {
        "colab": {
          "base_uri": "https://localhost:8080/"
        },
        "id": "IVc9sx6tA1Y4",
        "outputId": "6cc935bc-1f31-4741-b6cf-33a7248e8c61"
      },
      "execution_count": null,
      "outputs": [
        {
          "output_type": "stream",
          "name": "stdout",
          "text": [
            "defaultstatement\n"
          ]
        }
      ]
    },
    {
      "cell_type": "code",
      "source": [
        "# IF-ELIF-ELSE\n",
        "\n",
        "IF\n",
        "{\n",
        "# IF CONDITION 1 :\n",
        "#     PRINT(STATEMENT)\n",
        "# ELIF :\n",
        "#     PRINT\n",
        "# ELIF :\n",
        "#     PRINT()\n",
        "# ELSE :\n",
        "#   PRINT()\n",
        "}"
      ],
      "metadata": {
        "id": "-FBLDfp4DV11"
      },
      "execution_count": null,
      "outputs": []
    },
    {
      "cell_type": "code",
      "source": [
        "#HOMEWORK\n",
        "\n",
        "# 3 QUESTIONS OF CONDITIONAL STATEMENTS\n",
        "# 3 QUESTIONS OF FUNCTIONS\n"
      ],
      "metadata": {
        "id": "Rw6r6id3D9Hq"
      },
      "execution_count": null,
      "outputs": []
    },
    {
      "cell_type": "code",
      "source": [
        "#LOOPS IN PYTHON\n",
        "\n",
        "#THREE CATEGORIES :\n",
        "\n",
        "#FOR LOOP\n",
        "#DO WHILE LOOP\n",
        "#WHILE LOOP\n"
      ],
      "metadata": {
        "id": "WyKdfX0yDKyg"
      },
      "execution_count": null,
      "outputs": []
    },
    {
      "cell_type": "code",
      "source": [
        "#FOR LOOP # known - sequence by the help of range functions\n",
        "\n",
        "# range(1,11) (X,Y) -> X= INCLUSIVE, Y=>EXCLUSIVE\n",
        "# 1\n",
        "# 2\n",
        "# 3\n",
        "# 4\n",
        "# 5\n",
        "# 6\n",
        "# 7\n",
        "# 8\n",
        "# 9\n",
        "# 10\n",
        "\n",
        "# range(0,12,2)\n",
        "\n",
        "# 0\n",
        "# 2\n",
        "# 4\n",
        "# 6\n",
        "# 8\n",
        "# 10\n",
        "\n",
        "for i in range(0,10,2):\n",
        "  print(i)"
      ],
      "metadata": {
        "colab": {
          "base_uri": "https://localhost:8080/"
        },
        "id": "uECfgvDijKK-",
        "outputId": "0e936a12-d74d-4d16-9785-67ff62a7565e"
      },
      "execution_count": null,
      "outputs": [
        {
          "output_type": "stream",
          "name": "stdout",
          "text": [
            "0\n",
            "2\n",
            "4\n",
            "6\n",
            "8\n"
          ]
        }
      ]
    },
    {
      "cell_type": "code",
      "source": [
        "l=[\"python\", \"machine learning\", \"AI\"]\n",
        "\n",
        "for i in l :\n",
        "  print(i)"
      ],
      "metadata": {
        "colab": {
          "base_uri": "https://localhost:8080/"
        },
        "id": "81_HKjzwki5V",
        "outputId": "2318a89a-f6e2-4094-fad0-71d7e877c1fa"
      },
      "execution_count": null,
      "outputs": [
        {
          "output_type": "stream",
          "name": "stdout",
          "text": [
            "python\n",
            "machine learning\n",
            "AI\n"
          ]
        }
      ]
    },
    {
      "cell_type": "code",
      "source": [
        "#DIFFERENCE BETWEEN WHILE LOOP AND DO WHILE LOOP\n",
        "\n",
        "#WHILE LOOP = IT EXECUTE AS LONG AS THE CONDITION IS TRUE / THE NO OF EXECUTION OF INTERATION IS NOT KNOWN TO US BEFOREHEAD\n",
        "i=1\n",
        "while i<=5:\n",
        "  print(i)\n",
        "  i+=1"
      ],
      "metadata": {
        "colab": {
          "base_uri": "https://localhost:8080/"
        },
        "id": "0I20tMUmk_JY",
        "outputId": "583e4d57-1892-4858-efe5-efc28af1cf54"
      },
      "execution_count": null,
      "outputs": [
        {
          "output_type": "stream",
          "name": "stdout",
          "text": [
            "1\n",
            "2\n",
            "3\n",
            "4\n",
            "5\n"
          ]
        }
      ]
    },
    {
      "cell_type": "code",
      "source": [
        "#DO WHILE LOOP - EXECUTE ATLEAST ONCE BEFORE CHECKING\n",
        "\n",
        "int i = 10\n",
        "do\n",
        "{\n",
        "    while\n",
        "    print\n",
        "    i++\n",
        "    while\n",
        "}\n"
      ],
      "metadata": {
        "id": "mSvoBzAqmQYk"
      },
      "execution_count": null,
      "outputs": []
    },
    {
      "cell_type": "code",
      "source": [
        "#DO WHILE LOOP\n",
        "\n",
        "i = 1\n",
        "\n",
        "while True :\n",
        "  print(i)\n",
        "  i=i+1\n",
        "  if(i>5):\n",
        "    break"
      ],
      "metadata": {
        "colab": {
          "base_uri": "https://localhost:8080/"
        },
        "id": "jVcGcj86m-yl",
        "outputId": "4e05a9c8-e67f-4b49-8a04-2c753c3ab9ac"
      },
      "execution_count": null,
      "outputs": [
        {
          "output_type": "stream",
          "name": "stdout",
          "text": [
            "1\n",
            "2\n",
            "3\n",
            "4\n",
            "5\n"
          ]
        }
      ]
    },
    {
      "cell_type": "code",
      "source": [
        "while True :\n",
        "  user\n",
        "  num1 = int(user_input)\n",
        "\n",
        "if\n"
      ],
      "metadata": {
        "id": "f-SyyQSioKdh"
      },
      "execution_count": null,
      "outputs": []
    },
    {
      "cell_type": "code",
      "source": [],
      "metadata": {
        "id": "Ps0o4zOVpVM1"
      },
      "execution_count": null,
      "outputs": []
    },
    {
      "cell_type": "markdown",
      "source": [
        "Data Types"
      ],
      "metadata": {
        "id": "Rvv4wInHs430"
      }
    },
    {
      "cell_type": "code",
      "source": [
        " Integer = (1, 2, 3)\n",
        "\n",
        "Float = (0.1, 0.2)\n",
        "\n",
        "Character = 'a', 'p', 'c'\n",
        "\n",
        "String = 'python', 'news'\n",
        "\n",
        "Boolean=True or False, 0 or 1"
      ],
      "metadata": {
        "id": "l9XxNHSEs8un"
      },
      "execution_count": null,
      "outputs": []
    },
    {
      "cell_type": "markdown",
      "source": [
        "CONDITIONAL STATEMENTS"
      ],
      "metadata": {
        "id": "ODmiEWH5thLw"
      }
    },
    {
      "cell_type": "markdown",
      "source": [
        "If else"
      ],
      "metadata": {
        "id": "IZ0SVqYFtizP"
      }
    },
    {
      "cell_type": "code",
      "source": [
        "i=20\n",
        "if i>10:\n",
        "    print(\"i is greater than 10\")\n",
        "else:\n",
        "    print(\"i is less than 10\")\n"
      ],
      "metadata": {
        "colab": {
          "base_uri": "https://localhost:8080/"
        },
        "id": "v1Yg71SctjZA",
        "outputId": "86d82874-f4a2-428a-f225-3d9ddaca5b04"
      },
      "execution_count": null,
      "outputs": [
        {
          "output_type": "stream",
          "name": "stdout",
          "text": [
            "i is greater than 10\n"
          ]
        }
      ]
    },
    {
      "cell_type": "markdown",
      "source": [
        "Nested if"
      ],
      "metadata": {
        "id": "9tlE38xStpRn"
      }
    },
    {
      "cell_type": "code",
      "source": [
        "value=100\n",
        "if value>10:\n",
        "    if value<100:\n",
        "        print(\"value is greater than 10 and less than 100\")\n",
        "if value==100:\n",
        "        print(\"value is equal to 100\")\n"
      ],
      "metadata": {
        "colab": {
          "base_uri": "https://localhost:8080/"
        },
        "id": "IC58f3Dxtrw_",
        "outputId": "4f5c7ae6-dcdf-4e71-b39d-6844108ed0f4"
      },
      "execution_count": null,
      "outputs": [
        {
          "output_type": "stream",
          "name": "stdout",
          "text": [
            "value is equal to 100\n"
          ]
        }
      ]
    },
    {
      "cell_type": "markdown",
      "source": [
        "Switch case"
      ],
      "metadata": {
        "id": "Xh-pzu_8uE5X"
      }
    },
    {
      "cell_type": "code",
      "source": [
        "def number(a):\n",
        "  match a:\n",
        "    case 1:\n",
        "      print(\"one\")\n",
        "    case 2:\n",
        "      print(\"two\")\n",
        "    case 3:\n",
        "      print(\"three\")\n",
        "    case _:\n",
        "      print(\"invalid\")\n",
        "number(3)"
      ],
      "metadata": {
        "colab": {
          "base_uri": "https://localhost:8080/"
        },
        "id": "PWMUj7JjuHzv",
        "outputId": "386a7a88-4407-46db-92f6-b2070f361d7c"
      },
      "execution_count": null,
      "outputs": [
        {
          "output_type": "stream",
          "name": "stdout",
          "text": [
            "three\n"
          ]
        }
      ]
    },
    {
      "cell_type": "markdown",
      "source": [
        "FUNCTIONS"
      ],
      "metadata": {
        "id": "uFvn-kkkuSPP"
      }
    },
    {
      "cell_type": "markdown",
      "source": [
        "\n",
        "Helps to reuse the same piece of code again and again Used in oops,class,objects."
      ],
      "metadata": {
        "id": "XTAkQqHquUBH"
      }
    },
    {
      "cell_type": "code",
      "source": [
        "\n",
        "def greet():\n",
        "    print(\"Hello\")\n",
        "    print(\"Welcome\")\n",
        "greet()\n",
        "greet()\n"
      ],
      "metadata": {
        "colab": {
          "base_uri": "https://localhost:8080/"
        },
        "id": "Kce2Y72puV0-",
        "outputId": "354e0130-b74a-4922-e2ee-e73e2292e229"
      },
      "execution_count": null,
      "outputs": [
        {
          "output_type": "stream",
          "name": "stdout",
          "text": [
            "Hello\n",
            "Welcome\n",
            "Hello\n",
            "Welcome\n"
          ]
        }
      ]
    },
    {
      "cell_type": "code",
      "source": [
        "def function(a,b):\n",
        "  avearge=(a+b)/2\n",
        "  print(avearge)\n",
        "function(10,20)"
      ],
      "metadata": {
        "colab": {
          "base_uri": "https://localhost:8080/"
        },
        "id": "VcCZxDelub2u",
        "outputId": "13fd0587-2677-4f6e-e8b0-8bc7f2d9efc2"
      },
      "execution_count": null,
      "outputs": [
        {
          "output_type": "stream",
          "name": "stdout",
          "text": [
            "15.0\n"
          ]
        }
      ]
    },
    {
      "cell_type": "markdown",
      "source": [
        "31-05-2024"
      ],
      "metadata": {
        "id": "KVzoZulouemn"
      }
    },
    {
      "cell_type": "markdown",
      "source": [
        "LOOPS"
      ],
      "metadata": {
        "id": "09aetZ3kugeQ"
      }
    },
    {
      "cell_type": "markdown",
      "source": [
        "for loop"
      ],
      "metadata": {
        "id": "KoAKbnNPuic_"
      }
    },
    {
      "cell_type": "markdown",
      "source": [
        "do while"
      ],
      "metadata": {
        "id": "ejPpgZiWuk2v"
      }
    },
    {
      "cell_type": "markdown",
      "source": [
        "while loop"
      ],
      "metadata": {
        "id": "1yFKQDIbunCf"
      }
    },
    {
      "cell_type": "markdown",
      "source": [
        "For loop"
      ],
      "metadata": {
        "id": "vWikg70aurGP"
      }
    },
    {
      "cell_type": "code",
      "source": [
        "#for loop\n",
        "for i in range(1,11):\n",
        "  print(i)"
      ],
      "metadata": {
        "colab": {
          "base_uri": "https://localhost:8080/"
        },
        "id": "zveTl9Pput63",
        "outputId": "182ca496-69b0-4c4b-af3b-cf778acb31b4"
      },
      "execution_count": null,
      "outputs": [
        {
          "output_type": "stream",
          "name": "stdout",
          "text": [
            "1\n",
            "2\n",
            "3\n",
            "4\n",
            "5\n",
            "6\n",
            "7\n",
            "8\n",
            "9\n",
            "10\n"
          ]
        }
      ]
    },
    {
      "cell_type": "code",
      "source": [
        "for i in range(1,10,2):\n",
        "  print(i)"
      ],
      "metadata": {
        "colab": {
          "base_uri": "https://localhost:8080/"
        },
        "id": "9jD4hj7du4ou",
        "outputId": "4f404945-68e7-4d7c-bedc-6121c30c1fa3"
      },
      "execution_count": null,
      "outputs": [
        {
          "output_type": "stream",
          "name": "stdout",
          "text": [
            "1\n",
            "3\n",
            "5\n",
            "7\n",
            "9\n"
          ]
        }
      ]
    },
    {
      "cell_type": "code",
      "source": [
        "l=['python','ML','AI']\n",
        "for i in l:\n",
        "  print(i)"
      ],
      "metadata": {
        "colab": {
          "base_uri": "https://localhost:8080/"
        },
        "id": "zk9TBNAAvDah",
        "outputId": "f6101950-f324-48fe-b0d7-307c2373a907"
      },
      "execution_count": null,
      "outputs": [
        {
          "output_type": "stream",
          "name": "stdout",
          "text": [
            "python\n",
            "ML\n",
            "AI\n"
          ]
        }
      ]
    },
    {
      "cell_type": "markdown",
      "source": [
        "While loop"
      ],
      "metadata": {
        "id": "E9APfNRHvGqX"
      }
    },
    {
      "cell_type": "code",
      "source": [
        "i=1\n",
        "while i<=10:\n",
        "  print(i)\n",
        "  i=i+1"
      ],
      "metadata": {
        "colab": {
          "base_uri": "https://localhost:8080/"
        },
        "id": "xxDcOLWWvJA3",
        "outputId": "5b91f0a7-c546-4440-e854-44fd09d799c6"
      },
      "execution_count": null,
      "outputs": [
        {
          "output_type": "stream",
          "name": "stdout",
          "text": [
            "1\n",
            "2\n",
            "3\n",
            "4\n",
            "5\n",
            "6\n",
            "7\n",
            "8\n",
            "9\n",
            "10\n"
          ]
        }
      ]
    },
    {
      "cell_type": "markdown",
      "source": [
        "it excecutes as long as the condition is true\n",
        "\n",
        "no. of iteration is not known to us"
      ],
      "metadata": {
        "id": "nOT8Poc5vMwn"
      }
    },
    {
      "cell_type": "markdown",
      "source": [
        "Do while loop"
      ],
      "metadata": {
        "id": "Kvt7Xar3vST5"
      }
    },
    {
      "cell_type": "code",
      "source": [
        "i=1\n",
        "while True:\n",
        "  print(i)\n",
        "  i=i+1\n",
        "  if i>5:\n",
        "    break"
      ],
      "metadata": {
        "colab": {
          "base_uri": "https://localhost:8080/"
        },
        "id": "QoBd2QGavUlA",
        "outputId": "5f810e57-ba04-4cf6-e399-097c41f26bd7"
      },
      "execution_count": null,
      "outputs": [
        {
          "output_type": "stream",
          "name": "stdout",
          "text": [
            "1\n",
            "2\n",
            "3\n",
            "4\n",
            "5\n"
          ]
        }
      ]
    },
    {
      "cell_type": "markdown",
      "source": [
        "loop body executes atleast once before checking the condition"
      ],
      "metadata": {
        "id": "_KXeHXJ9vXi_"
      }
    },
    {
      "cell_type": "code",
      "source": [
        "while True:\n",
        "  user_input=input(\"enter a number\")\n",
        "  if user_input.isdigit():\n",
        "    number=int(user_input)\n",
        "    if number>0:\n",
        "     break\n",
        "  else:\n",
        "    print(\"invalid input\")"
      ],
      "metadata": {
        "colab": {
          "base_uri": "https://localhost:8080/"
        },
        "id": "Wz4GAy3Kvbvw",
        "outputId": "8f17a62d-4b27-435b-bb06-cfec0f238aea"
      },
      "execution_count": null,
      "outputs": [
        {
          "name": "stdout",
          "output_type": "stream",
          "text": [
            "enter a number11\n"
          ]
        }
      ]
    },
    {
      "cell_type": "markdown",
      "source": [
        "Typecast- one data type to another"
      ],
      "metadata": {
        "id": "4-v93Kpyvw7f"
      }
    },
    {
      "cell_type": "code",
      "source": [
        "y='10'\n",
        "print(type(y))\n",
        "x=int(y)\n",
        "print(type(x))"
      ],
      "metadata": {
        "colab": {
          "base_uri": "https://localhost:8080/"
        },
        "id": "chJ6FWAPvzQG",
        "outputId": "c1987820-b4d8-40fe-cb45-bf9a4e232cad"
      },
      "execution_count": null,
      "outputs": [
        {
          "output_type": "stream",
          "name": "stdout",
          "text": [
            "<class 'str'>\n",
            "<class 'int'>\n"
          ]
        }
      ]
    },
    {
      "cell_type": "code",
      "source": [
        "y='25a'\n",
        "y.isdigit()"
      ],
      "metadata": {
        "colab": {
          "base_uri": "https://localhost:8080/"
        },
        "id": "gUSy1r7_v5T_",
        "outputId": "2da12454-f134-466c-e90d-130e3173b414"
      },
      "execution_count": null,
      "outputs": [
        {
          "output_type": "execute_result",
          "data": {
            "text/plain": [
              "False"
            ]
          },
          "metadata": {},
          "execution_count": 14
        }
      ]
    },
    {
      "cell_type": "code",
      "source": [
        "y=30\n",
        "y=str(y)\n",
        "print(type(y))"
      ],
      "metadata": {
        "colab": {
          "base_uri": "https://localhost:8080/"
        },
        "id": "G7t4DnaRv8j7",
        "outputId": "75638504-aa5d-4532-966b-3b929e0a9100"
      },
      "execution_count": null,
      "outputs": [
        {
          "output_type": "stream",
          "name": "stdout",
          "text": [
            "<class 'str'>\n"
          ]
        }
      ]
    },
    {
      "cell_type": "code",
      "source": [],
      "metadata": {
        "id": "coMWuVpHv_1u"
      },
      "execution_count": null,
      "outputs": []
    },
    {
      "cell_type": "code",
      "source": [
        "y=str(30)\n",
        "print(type(y) )\n",
        "y.isdigit()\n"
      ],
      "metadata": {
        "colab": {
          "base_uri": "https://localhost:8080/"
        },
        "id": "m0Eg5gOawCuN",
        "outputId": "b3aa325e-76d0-4579-e974-66006f4c5b15"
      },
      "execution_count": null,
      "outputs": [
        {
          "output_type": "stream",
          "name": "stdout",
          "text": [
            "<class 'str'>\n"
          ]
        },
        {
          "output_type": "execute_result",
          "data": {
            "text/plain": [
              "True"
            ]
          },
          "metadata": {},
          "execution_count": 17
        }
      ]
    }
  ]
}