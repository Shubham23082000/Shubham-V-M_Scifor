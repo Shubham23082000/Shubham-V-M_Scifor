{
  "nbformat": 4,
  "nbformat_minor": 0,
  "metadata": {
    "colab": {
      "provenance": []
    },
    "kernelspec": {
      "name": "python3",
      "display_name": "Python 3"
    },
    "language_info": {
      "name": "python"
    }
  },
  "cells": [
    {
      "cell_type": "markdown",
      "source": [
        "1.What is Git and why is it used?\n",
        "\n",
        "\n",
        "Answer:  1\tGit is a distributed version control system used for tracking changes in source code during software development.\n",
        "\n",
        "2 It allows multiple developers to work on the same project simultaneously, coordinating their work efficiently\n",
        "\n",
        "3.Git provides a decentralized system for version control, allowing multiple developers to work on the same codebase simultaneously.\n"
      ],
      "metadata": {
        "id": "JoWjYnJaIz1h"
      }
    },
    {
      "cell_type": "markdown",
      "source": [],
      "metadata": {
        "id": "QOkrkGGOcs9T"
      }
    },
    {
      "cell_type": "markdown",
      "source": [
        "2. Explain the difference between Git pull and Git fetch.\n",
        " Answer:\n",
        "\n",
        " 1.\n",
        " Git Fetch:\n",
        " Purpose: Retrieves the latest changes from the remote repository to your local repository. It downloads new branches, tags, and commits from the remote repository into your local repository but does not integrate them with your current working branch.\n",
        "\n",
        "Operation:\n",
        "\n",
        " Downloads new data from a remote repository.\n",
        "\n",
        "Updates the remote-tracking branches (like origin/main or origin/master) in your local repository to reflect the state of the remote repository.\n",
        "\n",
        "advantage:\n",
        "\n",
        " 1.\n",
        " Safer: It doesn't modify your local branches until you explicitly merge them.\n",
        "\n",
        "2.\n",
        "Useful for reviewing changes before integrating them into your work.\n",
        "\n",
        "Use git fetch when you want to see what changes are available but not necessarily integrate them immediately.\n",
        "\n",
        "git fetch is safer because it doesn't change your local branches until you explicitly merge changes.\n",
        "\n",
        "2.\n",
        "Git Pull:\n",
        "\n",
        "Fetches the changes from the remote repository like git fetch, but it also integrates those changes into your current working branch\n",
        "\n",
        "Performs a git fetch first to bring the remote repository's changes into your local repository.\n",
        "Then, it merges those changes into your current branch (e.g., main, master).\n",
        "\n",
        "Convenient: It fetches and merges changes in one command.\n",
        "\n",
        "Suitable for routine updates when working alone on a branch.\n",
        "\n",
        "Use git pull when you want to fetch and immediately merge changes into your current branch.\n",
        "\n",
        "git pull directly updates your current branch, which might lead to conflicts if there are changes you haven't reviewed."
      ],
      "metadata": {
        "id": "28jDTFrQJtL-"
      }
    },
    {
      "cell_type": "markdown",
      "source": [
        " 3\n",
        ".•  How do you revert a commit in Git?**bold text**\n",
        "\n",
        "Answer:\n",
        "Identify the commit to revert:\n",
        "\n",
        "Use git log to view the commit history and find the hash (SHA-1 checksum) of the commit you want to revert. Alternatively, you can use a relative reference like HEAD~1, HEAD~2, etc., to refer to the commits relative to HEAD.\n",
        "\n",
        "Use the git revert command followed by the commit hash or reference.\n",
        "\n"
      ],
      "metadata": {
        "id": "hmXSslpMLbU0"
      }
    },
    {
      "cell_type": "code",
      "source": [
        "!git revert <commit-hash>"
      ],
      "metadata": {
        "colab": {
          "base_uri": "https://localhost:8080/"
        },
        "id": "bZwgr_d6MQXk",
        "outputId": "9917887d-83e1-4c47-b85c-1a71ce240212"
      },
      "execution_count": null,
      "outputs": [
        {
          "output_type": "stream",
          "name": "stdout",
          "text": [
            "/bin/bash: -c: line 1: syntax error near unexpected token `newline'\n",
            "/bin/bash: -c: line 1: `git revert <commit-hash>'\n"
          ]
        }
      ]
    },
    {
      "cell_type": "code",
      "source": [
        " !git revert abcdef1234567890"
      ],
      "metadata": {
        "colab": {
          "base_uri": "https://localhost:8080/"
        },
        "id": "dJ1vjc8BMmX7",
        "outputId": "ab18da27-2d04-4d23-e2bb-31e01afc32da"
      },
      "execution_count": null,
      "outputs": [
        {
          "output_type": "stream",
          "name": "stdout",
          "text": [
            "fatal: not a git repository (or any of the parent directories): .git\n"
          ]
        }
      ]
    },
    {
      "cell_type": "markdown",
      "source": [
        ". Resolve any conflicts (if necessary):\n",
        "\n",
        " If Git encounters conflicts while applying the revert, it will pause the process and allow you to resolve them manually. Use git status to see which files have conflicts, resolve them, and then continue with git revert --continue.\n",
        "\n",
        " Commit the revert:\n",
        "\n",
        "Once conflicts are resolved (if any), Git will automatically create a new commit with the revert changes. You can customize the commit message if needed. Git will open your default text editor for this purpose.\n",
        "\n",
        "Push the changes (if necessary):\n",
        "\n",
        "If you reverted a commit in a shared repository and want others to see the change, push the new commit to the remote repository.\n",
        "\n"
      ],
      "metadata": {
        "id": "u-iJ8ujjM0Vw"
      }
    },
    {
      "cell_type": "code",
      "source": [
        " !git push origin <branch-name>"
      ],
      "metadata": {
        "colab": {
          "base_uri": "https://localhost:8080/"
        },
        "id": "8gyjViTwNILm",
        "outputId": "9e658b17-c9b7-4b7d-ec37-72cae6706d89"
      },
      "execution_count": null,
      "outputs": [
        {
          "output_type": "stream",
          "name": "stdout",
          "text": [
            "/bin/bash: -c: line 1: syntax error near unexpected token `newline'\n",
            "/bin/bash: -c: line 1: `git push origin <branch-name>'\n"
          ]
        }
      ]
    },
    {
      "cell_type": "markdown",
      "source": [
        "**4.•  Describe the Git staging area.**\n",
        "\n",
        "•\tThe Git staging area (or index) is where files are prepared to be committed.\n",
        "\n",
        " It's a step before the actual commit process where you can review and organize\n",
        "\n",
        " changes (additions, modifications, deletions) made to files."
      ],
      "metadata": {
        "id": "CvJrfW4icwuK"
      }
    },
    {
      "cell_type": "markdown",
      "source": [
        "**5.What is a merge conflict, and how can it be resolved?**\n",
        "\n",
        "\n",
        "Identifying a Merge Conflict\n",
        "\n",
        "\n",
        "Attempting to Merge: When you run git merge <branch-name>, Git tries to integrate changes from <branch-name> into your current branch.\n",
        "\n",
        "Conflict Detection: If Git encounters conflicting changes, it will stop the merge process and indicate which files have conflicts.\n",
        "\n",
        "Conflict Markers: Inside the affected files, Git inserts special markers <<<<<<<, =======, and >>>>>>> to highlight the conflicting sections. These markers indicate:\n",
        "\n",
        "\n",
        "Everything between <<<<<<< and ======= is the changes from the current branch.\n",
        "\n",
        "Everything between ======= and >>>>>>> is the changes from the branch being merged.\n",
        "\n",
        "Resolving a Merge Conflict\n",
        "\n",
        "\n",
        "To resolve a merge conflict, follow these steps:\n",
        "\n",
        "Open the Conflicted File: Use a text editor or an IDE to open the file(s) that Git has identified as having conflicts.\n",
        "\n",
        "Locate Conflict Markers: Inside the file, you will see sections marked with <<<<<<<, =======, and >>>>>>>. These mark the conflicting changes.\n",
        "\n",
        "Resolve Conflicts Manually: Decide which changes to keep from each conflicting\n",
        "\n",
        " section or make modifications as necessary. Delete the conflict markers (<<<<<<<, =======, >>>>>>>) once you have resolved the conflicts."
      ],
      "metadata": {
        "id": "G5ZwuExqd9sj"
      }
    },
    {
      "cell_type": "markdown",
      "source": [
        "**6. •  How does Git branching contribute to collaboration?**\n",
        "\n",
        "Isolated development branches allow developers to work independently on different features or fixes\n",
        "\n",
        " parallel workflows enable multiple developers to work concurrently without conflicts.\n",
        "\n",
        "  Poll review facility through code review and discussion through pool requests.\n",
        "  \n",
        "   Safe experimentation allow for experimentation without affecting the main code base.\n",
        "   \n",
        "    simplified integration Make it easier to integrate and manage changes from different branches."
      ],
      "metadata": {
        "id": "7QpynusAe1lx"
      }
    },
    {
      "cell_type": "markdown",
      "source": [
        " 7. What is the purpose of Git rebase?\n",
        "\n",
        "  Maintaining a Clean History:\n",
        "  \n",
        "   Rebase allows you to integrate changes from one branch onto another branch while maintaining a linear project history. It achieves this by moving the entire branch to the tip of the target branch, replaying each commit from the source branch onto the target branch one by one.\n",
        "\n",
        "Squashing Commits:\n",
        "\n",
        " During a rebase, you have the option to squash or combine multiple commits into a single commit. This helps in creating more concise and meaningful commit messages and reduces clutter in the commit history.\n",
        "\n",
        "Integrating Changes:\n",
        "\n",
        " It's commonly used to integrate changes from a feature branch back into the main branch (such as master), ensuring that the main branch reflects the latest changes and features without unnecessary merge commits.\n",
        "\n",
        "Enhancing Readability:\n",
        "\n",
        " By rewriting commit history, rebase can make the commit history more readable and logical. It allows you to reorder commits, edit commit messages, or even remove commits that are no longer needed."
      ],
      "metadata": {
        "id": "2GlMqyH0fwSq"
      }
    },
    {
      "cell_type": "markdown",
      "source": [],
      "metadata": {
        "id": "HmFSLK7MgR4Y"
      }
    },
    {
      "cell_type": "markdown",
      "source": [
        "**8.Explain the difference between Git clone and Git fork**\n",
        "\n",
        "•\tGit clone:\n",
        "\n",
        " Creates a local copy of a remote repository, including all branches and commit history. It sets up a connection to the original repository for fetching updates.\n",
        "\n",
        "\n",
        "•\tGit fork:\n",
        "\n",
        " Creates a copy of a repository under your GitHub account. It's often used for contributing to someone else's project. You can clone a forked repository to your local machine, make changes, and propose these changes back to the original repository via pull requests.\n"
      ],
      "metadata": {
        "id": "g7zFKYIWgUMi"
      }
    },
    {
      "cell_type": "markdown",
      "source": [],
      "metadata": {
        "id": "R2RdGKRegc3w"
      }
    },
    {
      "cell_type": "markdown",
      "source": [
        "**9. How do you delete a branch in Git?**\n",
        "\n",
        "\n",
        "•\tTo delete a branch in Git, you can use the command git branch -d <branch-name> for a safe deletion (which checks if the changes have been merged into other branches) or git branch -D <branch-name> for a forceful deletion\n"
      ],
      "metadata": {
        "id": "J_uD-6kYggKt"
      }
    },
    {
      "cell_type": "markdown",
      "source": [],
      "metadata": {
        "id": "8hp2tWKVgl0t"
      }
    },
    {
      "cell_type": "markdown",
      "source": [
        "**10.  What is a Git hook, and how can it be used?**\n",
        "\n",
        "\n",
        "•\tA Git hook is a script that Git executes before or after specific events such as commit, push, and receive.\n",
        "\n",
        " Hooks can be used to automate tasks like checking code quality before committing (pre-commit hook), enforcing commit message standards (commit-msg hook), or triggering a deployment after a successful push (post-receive hook).\n"
      ],
      "metadata": {
        "id": "FtsgwhLXgpVc"
      }
    },
    {
      "cell_type": "markdown",
      "source": [],
      "metadata": {
        "id": "JoqDp8jpg-ls"
      }
    }
  ]
}