{
  "nbformat": 4,
  "nbformat_minor": 0,
  "metadata": {
    "colab": {
      "provenance": [],
      "toc_visible": true,
      "authorship_tag": "ABX9TyOS8fVN5uG9LC2M1LmfeOAN",
      "include_colab_link": true
    },
    "kernelspec": {
      "name": "python3",
      "display_name": "Python 3"
    },
    "language_info": {
      "name": "python"
    }
  },
  "cells": [
    {
      "cell_type": "markdown",
      "metadata": {
        "id": "view-in-github",
        "colab_type": "text"
      },
      "source": [
        "<a href=\"https://colab.research.google.com/github/Shubham23082000/Shubham-V-M_Scifor/blob/main/machine_Learning.ipynb\" target=\"_parent\"><img src=\"https://colab.research.google.com/assets/colab-badge.svg\" alt=\"Open In Colab\"/></a>"
      ]
    },
    {
      "cell_type": "markdown",
      "source": [
        " **Machine Learning**"
      ],
      "metadata": {
        "id": "xaCyB-8-0LZ5"
      }
    },
    {
      "cell_type": "markdown",
      "source": [
        "Machine Learning is a subset of Artificial Intelligence (AI) that involves training algorithms to learn from data and make predictions or decisions without being explicitly programmed.\n"
      ],
      "metadata": {
        "id": "ztzjZWTg1MJ-"
      }
    },
    {
      "cell_type": "markdown",
      "source": [
        "Types of Machine Learning\n",
        "\n",
        "1.Supervised Learning: The algorithm is trained on labeled data to learn the relationship between input features and output targets.\n",
        "\n",
        "2. Unsupervised Learning: The algorithm is trained on unlabeled data to discover patterns, relationships, or structure.\n",
        "\n",
        "3.Reinforcement Learning: The algorithm learns through trial and error by interacting with an environment and receiving rewards or penalties.\n",
        "\n"
      ],
      "metadata": {
        "id": "gGV6zfDL23yE"
      }
    },
    {
      "cell_type": "markdown",
      "source": [
        "**1. Supervised Machine Learning**\\\\\\\\\\"
      ],
      "metadata": {
        "id": "lMUJi7UG38O0"
      }
    },
    {
      "cell_type": "markdown",
      "source": [
        "Supervised Machine Learning is a type of Machine Learning where the algorithm is trained on labeled data to learn the relationship between input features and output targets. The goal is to make predictions on new, unseen data based on the patterns learned from the training data.\n",
        "\n",
        "Example\n",
        "Let's say we want to build a model that can predict the price of a house based on its features. We have a dataset of houses with their corresponding prices and features such as:\n",
        "number of bedrooms ,\n",
        "location,\n",
        "price ."
      ],
      "metadata": {
        "id": "ycBFXy2Z4Nl_"
      }
    },
    {
      "cell_type": "markdown",
      "source": [
        "**2. Unsupervised Machine Learning**"
      ],
      "metadata": {
        "id": "xcI3aKwl5iqZ"
      }
    },
    {
      "cell_type": "markdown",
      "source": [
        "Unsupervised Machine Learning is a type of Machine Learning where the algorithm is trained on unlabeled data to discover patterns, relationships, or structure. The goal is to identify hidden insights or groupings in the data without a specific target variable.\n",
        "\n",
        "Examples\n",
        "we're a marketing team for an e-commerce company, and we want to segment our customers based on their buying behavior and demographics. We have a dataset of customer information, including:\n",
        "gender, name, income,occupation\n",
        "\n"
      ],
      "metadata": {
        "id": "88mzx8o05mlL"
      }
    },
    {
      "cell_type": "markdown",
      "source": [
        "**3. Reinforcement Machine Learning**"
      ],
      "metadata": {
        "id": "yxJCWbEb6DuH"
      }
    },
    {
      "cell_type": "markdown",
      "source": [
        "Reinforcement Machine Learning is a type of Machine Learning where an agent learns to make decisions by interacting with an environment and receiving rewards or penalties for its actions. The goal is to maximize the cumulative reward over time by learning an optimal policy.\n",
        "\n",
        "Example\n",
        "\n",
        "Let's say we want to train an agent to balance a cart-pole system. The cart-pole system consists of a cart that moves along a frictionless track and a pole that's hinged to the cart. The goal is to balance the pole by applying forces to the cart.\n"
      ],
      "metadata": {
        "id": "jIx2LfEl6QB7"
      }
    },
    {
      "cell_type": "markdown",
      "source": [
        "**CLASSIFICATION VS REGRESSION VS CLUSTERING**\n",
        "\n",
        " \tCLASSIFICATION\n",
        "\n",
        "Classification involve assigning input data into predefined categories or label. It is supervised learning task, meaning the model is trained on label data. .\n",
        "\n",
        "common application include email spam detection, image recognition and medical diagnosis, where the output is discrete label, such as a spam or not spam\n",
        "\n",
        " predicting the type of the given planet based on its features. Example, flower colour, lip shape, etc.\n",
        "\n",
        "  predicting whether a given image contains a cat or a dog.\n",
        "\n",
        " Here are some classifications algorithms\n",
        "\n",
        " logistic regression,\n",
        "\n",
        " support vector machine,\n",
        "\n",
        "  random forest,\n",
        "  \n",
        "  decision tree,\n",
        "  \n",
        "   K-nearest neighbours (KNN)\n",
        "   \n",
        "  Native Bayes\n",
        "\n",
        "REGRESSION.\n",
        "\n",
        " Regression on the other hand, deals with predicting continuous value. It is also a supervised learning task, but differ from classification in that output are continuous, rather than discrete.\n",
        "\n",
        " Typically, applications of regression include predicting house prices, sales, forecasting and estimating stock market trend where the output is a real number, such as a price or temperature.\n",
        "\n",
        "  predicting demands for a product based on historical sales data, forecasting the stock price of a company based on financial data.\n",
        "  \n",
        "   determining how much a customer is willing to pay for a particular product based on age.\n",
        "   \n",
        "   Here are some regression algorithms\n",
        "\n",
        " linear regression\n",
        "\n",
        " polynomial regression,\n",
        "\n",
        "reduced regression\n",
        "\n",
        " lesser regression,\n",
        "\n",
        " decision tree,\n",
        "\n",
        "random forest\n",
        "\n",
        "\n",
        "CLUSTERING.\n",
        "\n",
        " Clustering is an unsupervised learning technique used to group similar data point into cluster based on inherit similarities without pre defined label. It helps is discovering underlay pattern or structure within the data .\n",
        "\n",
        " Application include customer segmentation in marketing, grouping similar document and anomaly detection.\n",
        "\n",
        "  Search engine also work on clustering techniques The research result appear based on the closet object to the search query.\n",
        "\n",
        " Here are clustering algorithms\n",
        "\n",
        "K- means clustering algorithm\n",
        "\n",
        "means shift algorithm.\n",
        ".\n",
        " Dbscan algorithm,\n",
        "\n",
        "principle component analysis,\n",
        "\n",
        " independent component analysis\n",
        "\n",
        ""
      ],
      "metadata": {
        "id": "4JXSHn-A8zzO"
      }
    },
    {
      "cell_type": "markdown",
      "source": [],
      "metadata": {
        "id": "beQT0jxp-5gL"
      }
    },
    {
      "cell_type": "markdown",
      "source": [],
      "metadata": {
        "id": "c5KKQXzJ9AOk"
      }
    }
  ]
}