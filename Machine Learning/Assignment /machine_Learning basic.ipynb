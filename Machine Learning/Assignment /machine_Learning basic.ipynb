{
  "nbformat": 4,
  "nbformat_minor": 0,
  "metadata": {
    "colab": {
      "provenance": [],
      "toc_visible": true,
      "authorship_tag": "ABX9TyOABjlTOVJpQ8RuOO+wiuLQ",
      "include_colab_link": true
    },
    "kernelspec": {
      "name": "python3",
      "display_name": "Python 3"
    },
    "language_info": {
      "name": "python"
    }
  },
  "cells": [
    {
      "cell_type": "markdown",
      "metadata": {
        "id": "view-in-github",
        "colab_type": "text"
      },
      "source": [
        "<a href=\"https://colab.research.google.com/github/Shubham23082000/Shubham-V-M_Scifor/blob/main/machine_Learning.ipynb\" target=\"_parent\"><img src=\"https://colab.research.google.com/assets/colab-badge.svg\" alt=\"Open In Colab\"/></a>"
      ]
    },
    {
      "cell_type": "markdown",
      "source": [
        "\n",
        "\n",
        "```\n",
        "`# This is formatted as code`\n",
        "```\n",
        "\n",
        " **Machine Learning**"
      ],
      "metadata": {
        "id": "xaCyB-8-0LZ5"
      }
    },
    {
      "cell_type": "code",
      "source": [
        "# Single Inheritance\n",
        "class Animal:\n",
        "    def __init__(self, name):\n",
        "        self.name = name\n",
        "\n",
        "    def sound(self):\n",
        "        print(\"The animal makes a sound.\")\n",
        "\n",
        "class Dog(Animal):\n",
        "    def __init__(self, name, breed):\n",
        "        super().__init__(name)\n",
        "        self.breed = breed\n",
        "\n",
        "    def sound(self):\n",
        "        print(\"The dog barks.\")"
      ],
      "metadata": {
        "id": "ODeV5xEIQvvF"
      },
      "execution_count": 2,
      "outputs": []
    },
    {
      "cell_type": "code",
      "source": [
        "# Multiple Inheritance\n",
        "class FlyingAnimal(Animal):\n",
        "    def fly(self):\n",
        "        print(\"The animal flies.\")\n",
        "\n",
        "class Bird(FlyingAnimal, Animal):\n",
        "    def __init__(self, name, species):\n",
        "        super().__init__(name)\n",
        "        self.species = species\n",
        "\n",
        "    def sound(self):\n",
        "        print(\"The bird chirps.\")"
      ],
      "metadata": {
        "id": "2c_E56hJS9tM"
      },
      "execution_count": 3,
      "outputs": []
    },
    {
      "cell_type": "code",
      "source": [
        "# Multilevel Inheritance\n",
        "class Mammal(Animal):\n",
        "    def feed_young(self):\n",
        "        print(\"The mammal feeds its young.\")\n",
        "\n",
        "class Primate(Mammal):\n",
        "    def climb(self):\n",
        "        print(\"The primate climbs.\")\n",
        "\n",
        "class Human(Primate):\n",
        "    def __init__(self, name, age):\n",
        "        super().__init__(name)\n",
        "        self.age = age\n",
        "\n",
        "    def sound(self):\n",
        "        print(\"The human speaks.\")"
      ],
      "metadata": {
        "id": "xAWKXYdITJAK"
      },
      "execution_count": 4,
      "outputs": []
    },
    {
      "cell_type": "code",
      "source": [
        "# Hierarchical Inheritance\n",
        "class Vehicle:\n",
        "    def __init__(self, brand):\n",
        "        self.brand = brand\n",
        "\n",
        "class Car(Vehicle):\n",
        "    def drive(self):\n",
        "        print(\"The car drives.\")\n",
        "\n",
        "class Truck(Vehicle):\n",
        "    def haul(self):\n",
        "        print(\"The truck hauls.\")\n",
        "\n",
        "class Motorcycle(Vehicle):\n",
        "    def ride(self):\n",
        "        print(\"The motorcycle rides.\")"
      ],
      "metadata": {
        "id": "tQHY9ADMTPgE"
      },
      "execution_count": 5,
      "outputs": []
    },
    {
      "cell_type": "code",
      "source": [
        "# Hybrid Inheritance\n",
        "class A:\n",
        "    def method_a(self):\n",
        "        print(\"Method A\")\n",
        "\n",
        "class B(A):\n",
        "    def method_b(self):\n",
        "        print(\"Method B\")\n",
        "\n",
        "class C:\n",
        "    def method_c(self):\n",
        "        print(\"Method C\")\n",
        "\n",
        "class D(B, C):\n",
        "    def method_d(self):\n",
        "        print(\"Method D\")"
      ],
      "metadata": {
        "id": "OKcd9OsdWAfo"
      },
      "execution_count": 6,
      "outputs": []
    },
    {
      "cell_type": "code",
      "source": [
        "# Create instances and call methods\n",
        "dog = Dog(\"Fido\", \"Golden Retriever\")\n",
        "dog.sound()  # Output: The dog barks.\n",
        "\n",
        "bird = Bird(\"Sparrow\", \"House Sparrow\")\n",
        "bird.sound()  # Output: The bird chirps.\n",
        "bird.fly()  # Output: The animal flies.\n",
        "\n",
        "human = Human(\"John\", 30)\n",
        "human.sound()  # Output: The human speaks.\n",
        "human.feed_young()  # Output: The mammal feeds its young.\n",
        "human.climb()  # Output: The primate climbs.\n",
        "\n",
        "car = Car(\"Toyota\")\n",
        "car.drive()  # Output: The car drives.\n",
        "\n",
        "truck = Truck(\"Ford\")\n",
        "truck.haul()  # Output: The truck hauls.\n",
        "\n",
        "motorcycle = Motorcycle(\"Harley-Davidson\")\n",
        "motorcycle.ride()  # Output: The motorcycle rides.\n",
        "\n",
        "d = D()\n",
        "d.method_a()  # Output: Method A\n",
        "d.method_b()  # Output: Method B\n",
        "d.method_c()  # Output: Method C\n",
        "d.method_d()  # Output: Method D"
      ],
      "metadata": {
        "colab": {
          "base_uri": "https://localhost:8080/"
        },
        "id": "uwJDnLX6WPEY",
        "outputId": "75a83f23-d23b-4a97-ce3b-83cd5e7f9909"
      },
      "execution_count": 7,
      "outputs": [
        {
          "output_type": "stream",
          "name": "stdout",
          "text": [
            "The dog barks.\n",
            "The bird chirps.\n",
            "The animal flies.\n",
            "The human speaks.\n",
            "The mammal feeds its young.\n",
            "The primate climbs.\n",
            "The car drives.\n",
            "The truck hauls.\n",
            "The motorcycle rides.\n",
            "Method A\n",
            "Method B\n",
            "Method C\n",
            "Method D\n"
          ]
        }
      ]
    },
    {
      "cell_type": "markdown",
      "source": [
        "Machine Learning is a subset of Artificial Intelligence (AI) that involves training algorithms to learn from data and make predictions or decisions without being explicitly programmed.\n"
      ],
      "metadata": {
        "id": "ztzjZWTg1MJ-"
      }
    },
    {
      "cell_type": "markdown",
      "source": [
        "Types of Machine Learning\n",
        "\n",
        "1.Supervised Learning: The algorithm is trained on labeled data to learn the relationship between input features and output targets.\n",
        "\n",
        "2. Unsupervised Learning: The algorithm is trained on unlabeled data to discover patterns, relationships, or structure.\n",
        "\n",
        "3.Reinforcement Learning: The algorithm learns through trial and error by interacting with an environment and receiving rewards or penalties.\n",
        "\n"
      ],
      "metadata": {
        "id": "gGV6zfDL23yE"
      }
    },
    {
      "cell_type": "markdown",
      "source": [
        "**1. Supervised Machine Learning**\\\\\\\\\\"
      ],
      "metadata": {
        "id": "lMUJi7UG38O0"
      }
    },
    {
      "cell_type": "markdown",
      "source": [
        "Supervised Machine Learning is a type of Machine Learning where the algorithm is trained on labeled data to learn the relationship between input features and output targets. The goal is to make predictions on new, unseen data based on the patterns learned from the training data.\n",
        "\n",
        "Example\n",
        "Let's say we want to build a model that can predict the price of a house based on its features. We have a dataset of houses with their corresponding prices and features such as:\n",
        "number of bedrooms ,\n",
        "location,\n",
        "price ."
      ],
      "metadata": {
        "id": "ycBFXy2Z4Nl_"
      }
    },
    {
      "cell_type": "markdown",
      "source": [
        "**2. Unsupervised Machine Learning**"
      ],
      "metadata": {
        "id": "xcI3aKwl5iqZ"
      }
    },
    {
      "cell_type": "markdown",
      "source": [
        "Unsupervised Machine Learning is a type of Machine Learning where the algorithm is trained on unlabeled data to discover patterns, relationships, or structure. The goal is to identify hidden insights or groupings in the data without a specific target variable.\n",
        "\n",
        "Examples\n",
        "we're a marketing team for an e-commerce company, and we want to segment our customers based on their buying behavior and demographics. We have a dataset of customer information, including:\n",
        "gender, name, income,occupation\n",
        "\n"
      ],
      "metadata": {
        "id": "88mzx8o05mlL"
      }
    },
    {
      "cell_type": "markdown",
      "source": [
        "**3. Reinforcement Machine Learning**"
      ],
      "metadata": {
        "id": "yxJCWbEb6DuH"
      }
    },
    {
      "cell_type": "markdown",
      "source": [
        "Reinforcement Machine Learning is a type of Machine Learning where an agent learns to make decisions by interacting with an environment and receiving rewards or penalties for its actions. The goal is to maximize the cumulative reward over time by learning an optimal policy.\n",
        "\n",
        "Example\n",
        "\n",
        "Let's say we want to train an agent to balance a cart-pole system. The cart-pole system consists of a cart that moves along a frictionless track and a pole that's hinged to the cart. The goal is to balance the pole by applying forces to the cart.\n"
      ],
      "metadata": {
        "id": "jIx2LfEl6QB7"
      }
    },
    {
      "cell_type": "markdown",
      "source": [
        "**CLASSIFICATION VS REGRESSION VS CLUSTERING**\n",
        "\n",
        " \tCLASSIFICATION\n",
        "\n",
        "Classification involve assigning input data into predefined categories or label. It is supervised learning task, meaning the model is trained on label data. .\n",
        "\n",
        "common application include email spam detection, image recognition and medical diagnosis, where the output is discrete label, such as a spam or not spam\n",
        "\n",
        " predicting the type of the given planet based on its features. Example, flower colour, lip shape, etc.\n",
        "\n",
        "  predicting whether a given image contains a cat or a dog.\n",
        "\n",
        " Here are some classifications algorithms\n",
        "\n",
        " logistic regression,\n",
        "\n",
        " support vector machine,\n",
        "\n",
        "  random forest,\n",
        "  \n",
        "  decision tree,\n",
        "  \n",
        "   K-nearest neighbours (KNN)\n",
        "   \n",
        "  Native Bayes\n",
        "\n",
        "REGRESSION.\n",
        "\n",
        " Regression on the other hand, deals with predicting continuous value. It is also a supervised learning task, but differ from classification in that output are continuous, rather than discrete.\n",
        "\n",
        " Typically, applications of regression include predicting house prices, sales, forecasting and estimating stock market trend where the output is a real number, such as a price or temperature.\n",
        "\n",
        "  predicting demands for a product based on historical sales data, forecasting the stock price of a company based on financial data.\n",
        "  \n",
        "   determining how much a customer is willing to pay for a particular product based on age.\n",
        "   \n",
        "   Here are some regression algorithms\n",
        "\n",
        " linear regression\n",
        "\n",
        " polynomial regression,\n",
        "\n",
        "reduced regression\n",
        "\n",
        " lesser regression,\n",
        "\n",
        " decision tree,\n",
        "\n",
        "random forest\n",
        "\n",
        "\n",
        "CLUSTERING.\n",
        "\n",
        " Clustering is an unsupervised learning technique used to group similar data point into cluster based on inherit similarities without pre defined label. It helps is discovering underlay pattern or structure within the data .\n",
        "\n",
        " Application include customer segmentation in marketing, grouping similar document and anomaly detection.\n",
        "\n",
        "  Search engine also work on clustering techniques The research result appear based on the closet object to the search query.\n",
        "\n",
        " Here are clustering algorithms\n",
        "\n",
        "K- means clustering algorithm\n",
        "\n",
        "means shift algorithm.\n",
        ".\n",
        " Dbscan algorithm,\n",
        "\n",
        "principle component analysis,\n",
        "\n",
        " independent component analysis\n",
        "\n"
      ],
      "metadata": {
        "id": "4JXSHn-A8zzO"
      }
    },
    {
      "cell_type": "markdown",
      "source": [],
      "metadata": {
        "id": "beQT0jxp-5gL"
      }
    },
    {
      "cell_type": "markdown",
      "source": [],
      "metadata": {
        "id": "c5KKQXzJ9AOk"
      }
    }
  ]
}
