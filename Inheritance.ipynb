{
  "nbformat": 4,
  "nbformat_minor": 0,
  "metadata": {
    "colab": {
      "provenance": [],
      "authorship_tag": "ABX9TyO0FH8JdVGna6RMqejhSHDg",
      "include_colab_link": true
    },
    "kernelspec": {
      "name": "python3",
      "display_name": "Python 3"
    },
    "language_info": {
      "name": "python"
    }
  },
  "cells": [
    {
      "cell_type": "markdown",
      "metadata": {
        "id": "view-in-github",
        "colab_type": "text"
      },
      "source": [
        "<a href=\"https://colab.research.google.com/github/Shubham23082000/Shubham-V-M_Scifor/blob/main/Inheritance.ipynb\" target=\"_parent\"><img src=\"https://colab.research.google.com/assets/colab-badge.svg\" alt=\"Open In Colab\"/></a>"
      ]
    },
    {
      "cell_type": "code",
      "execution_count": null,
      "metadata": {
        "id": "W6lVW7JCgLGH"
      },
      "outputs": [],
      "source": []
    },
    {
      "cell_type": "markdown",
      "source": [
        "06/06/2024"
      ],
      "metadata": {
        "id": "l5W8dQdugY5g"
      }
    },
    {
      "cell_type": "markdown",
      "source": [
        "Inheritance"
      ],
      "metadata": {
        "id": "89Q0LPDcghBV"
      }
    },
    {
      "cell_type": "markdown",
      "source": [
        "Inheritance is pillar of oops,through which we are having characteristics of parent class and existing unique characteristic of child/sub class.\n",
        "\n",
        "eg: Class India subclass different state\n",
        "\n",
        "Inheriting features from parents"
      ],
      "metadata": {
        "id": "MZ1Yq7MdgkhE"
      }
    },
    {
      "cell_type": "code",
      "source": [
        "class Human:\n",
        "  def eat(self):\n",
        "    print(\"eating\")\n",
        "  def sleep(self):\n",
        "    print(\"sleeping\")\n",
        "class Male(Human):\n",
        "  pass\n",
        "male=Male()\n",
        "male.eat()\n",
        "male.sleep()"
      ],
      "metadata": {
        "colab": {
          "base_uri": "https://localhost:8080/"
        },
        "id": "uGwtzXn3glIH",
        "outputId": "9eff70cd-8bec-48b1-8448-36190c4620f1"
      },
      "execution_count": null,
      "outputs": [
        {
          "output_type": "stream",
          "name": "stdout",
          "text": [
            "eating\n",
            "sleeping\n"
          ]
        }
      ]
    },
    {
      "cell_type": "code",
      "source": [
        "class Animal:\n",
        "  def make_sound(self):\n",
        "    print(\"making_sound\")\n",
        "\n",
        "class Dog(Animal):\n",
        "  def make_sound(self):\n",
        "    print(\"woof\")\n",
        "\n",
        "class Cat(Dog):\n",
        "  def make_sound(self):\n",
        "    print(\"meow\")\n",
        "\n",
        "dog=Dog()\n",
        "cat=Cat()\n",
        "a=Animal()\n",
        "dog.make_sound()\n",
        "cat.make_sound()\n",
        "a.make_sound()"
      ],
      "metadata": {
        "colab": {
          "base_uri": "https://localhost:8080/"
        },
        "id": "Xm2sCOHVguA5",
        "outputId": "0bf38c6c-ddf4-4bff-9b2a-cf2625a95768"
      },
      "execution_count": null,
      "outputs": [
        {
          "output_type": "stream",
          "name": "stdout",
          "text": [
            "woof\n",
            "meow\n",
            "making_sound\n"
          ]
        }
      ]
    },
    {
      "cell_type": "markdown",
      "source": [
        "Levels of inheritance(categories)\n",
        "\n",
        " 1. Single-level: one child class and one parent class\n",
        "2. Multi-level:child class act as parent class for another child class\n",
        "3. Multiple level:more than one parent class\n",
        "4. Hybrid:combining more than one type of inheritance\n",
        "5. Hierarchial: parent class is inherited by many subclasses"
      ],
      "metadata": {
        "id": "ICp-C1Ezg0Uz"
      }
    },
    {
      "cell_type": "markdown",
      "source": [
        "Single level inheritance"
      ],
      "metadata": {
        "id": "usiXnov6g3ys"
      }
    },
    {
      "cell_type": "code",
      "source": [
        "#base class\n",
        "class Animal:\n",
        "  def speak(self): #speak method\n",
        "    print(\"Speaking\")\n",
        "\n",
        "#derived class\n",
        "class Dog(Animal):\n",
        "  def bark(self): #bark method\n",
        "    print(\"Barking\")\n",
        "\n",
        "#create an instance of dog\n",
        "dog=Dog()\n",
        "dog.speak()   #inherited method\n",
        "dog.bark()    #method of dog class"
      ],
      "metadata": {
        "colab": {
          "base_uri": "https://localhost:8080/"
        },
        "id": "UiDdVOz6hPVo",
        "outputId": "f1e007f4-507f-43d0-e012-fbe1124143e3"
      },
      "execution_count": null,
      "outputs": [
        {
          "output_type": "stream",
          "name": "stdout",
          "text": [
            "Speaking\n",
            "Barking\n"
          ]
        }
      ]
    },
    {
      "cell_type": "markdown",
      "source": [
        "Multi level inheritance"
      ],
      "metadata": {
        "id": "OIxEl_oyhVDi"
      }
    },
    {
      "cell_type": "markdown",
      "source": [
        "#it act as chain\n",
        "#child class have another subclass\n",
        "#animal-dog-puppy"
      ],
      "metadata": {
        "id": "z7yIsIPehc29"
      }
    },
    {
      "cell_type": "code",
      "source": [
        "class Animal:\n",
        "    def make_sound(self):\n",
        "        return \"making_sound\"\n",
        "\n",
        "class Dog(Animal):\n",
        "    def make_sound(self):\n",
        "        return \"woof\"\n",
        "\n",
        "class Cat(Animal):\n",
        "    def make_sound(self):\n",
        "        return \"meow\"\n",
        "\n",
        "# Create instances of Dog and Cat\n",
        "dog = Dog()\n",
        "cat = Cat()\n",
        "\n",
        "# Print the output of the make_sound method on each instance\n",
        "print(dog.make_sound())  # Output: \"woof\"\n",
        "print(cat.make_sound())  # Output: \"meow\""
      ],
      "metadata": {
        "colab": {
          "base_uri": "https://localhost:8080/"
        },
        "id": "8VqZAfGwhew1",
        "outputId": "8269216c-8a7d-4b39-f703-4e99b92730bc"
      },
      "execution_count": null,
      "outputs": [
        {
          "output_type": "stream",
          "name": "stdout",
          "text": [
            "woof\n",
            "meow\n"
          ]
        }
      ]
    },
    {
      "cell_type": "markdown",
      "source": [
        "Multiple level"
      ],
      "metadata": {
        "id": "yObCbgGNhluL"
      }
    },
    {
      "cell_type": "code",
      "source": [
        "class Father:\n",
        "  def skills(self):\n",
        "    print(\"Father's skills\")\n",
        "\n",
        "class Mother:\n",
        "  def skills(self):\n",
        "    print(\"Mother's skills\")\n",
        "\n",
        "class Child(Father,Mother):#child,father,mother\n",
        "  def skills(self):\n",
        "    super().skills()#calls the first class in the MRO(Method Resolution Oder)\n",
        "    print(\"child's skills\")\n",
        "\n",
        "#create an instance of child\n",
        "child=Child()\n",
        "father=Father()\n",
        "mother=Mother()\n",
        "child.skills()#childs skills method\n",
        "father.skills()#fathers skills method\n",
        "mother.skills()#mothers skills method"
      ],
      "metadata": {
        "colab": {
          "base_uri": "https://localhost:8080/"
        },
        "id": "ddp05jrnhmr6",
        "outputId": "e9deb316-6d31-48fc-905b-b0c196110df6"
      },
      "execution_count": null,
      "outputs": [
        {
          "output_type": "stream",
          "name": "stdout",
          "text": [
            "Father's skills\n",
            "child's skills\n",
            "Father's skills\n",
            "Mother's skills\n"
          ]
        }
      ]
    },
    {
      "cell_type": "markdown",
      "source": [
        "\n",
        "11-06-24"
      ],
      "metadata": {
        "id": "AxmZqn0ZhvP3"
      }
    },
    {
      "cell_type": "markdown",
      "source": [
        "Hierarchial Inheritance"
      ],
      "metadata": {
        "id": "4Tpw1gYKhwT1"
      }
    },
    {
      "cell_type": "markdown",
      "source": [],
      "metadata": {
        "id": "tbyIZ6bxhyNd"
      }
    },
    {
      "cell_type": "markdown",
      "source": [
        "Arrangement according to level.\n",
        "\n",
        "Multiple derived child class Inherited from single parent class.\n",
        "\n",
        "Each child class has its own properties and methods.\n",
        "\n",
        "Animal-parent class\n",
        "\n",
        "dog and cat-child class"
      ],
      "metadata": {
        "id": "Aj4fux0nhziU"
      }
    },
    {
      "cell_type": "code",
      "source": [
        "#base class\n",
        "class Animal:\n",
        "  def speak(self):\n",
        "    print(\"Speaking\")\n",
        "\n",
        "#derived class1\n",
        "class Dog(Animal):\n",
        "  def bark(self):\n",
        "    print(\"Barking\")\n",
        "\n",
        "#derived class2\n",
        "class Cat(Animal):\n",
        "  def meow(self):\n",
        "    print(\"Meowing\")\n",
        "\n",
        "#create an instance of dog\n",
        "dog=Dog()\n",
        "cat=Cat()\n",
        "\n",
        "dog.speak()  #inherited method\n",
        "dog.bark()   #method of dog class\n",
        "\n",
        "cat.speak()  #inherited method\n",
        "cat.meow()   #method of cat class"
      ],
      "metadata": {
        "colab": {
          "base_uri": "https://localhost:8080/"
        },
        "id": "oobUWM8Fh4Js",
        "outputId": "8f81b4c4-4068-4bb4-b6fc-1911dab8c770"
      },
      "execution_count": null,
      "outputs": [
        {
          "output_type": "stream",
          "name": "stdout",
          "text": [
            "Speaking\n",
            "Barking\n",
            "Speaking\n",
            "Meowing\n"
          ]
        }
      ]
    },
    {
      "cell_type": "markdown",
      "source": [
        "12/06/2024"
      ],
      "metadata": {
        "id": "fq0lA994h7iW"
      }
    },
    {
      "cell_type": "markdown",
      "source": [
        "Hybrid Inheritance"
      ],
      "metadata": {
        "id": "CUgQJxcrh9as"
      }
    },
    {
      "cell_type": "markdown",
      "source": [
        "combination of multiple and multi level inheritance"
      ],
      "metadata": {
        "id": "5AL1iJDjh_6U"
      }
    },
    {
      "cell_type": "code",
      "source": [
        "#Base class\n",
        "class Animal:\n",
        "  def __init__(self,name):\n",
        "    self.name=name\n",
        "\n",
        "  def speak(self):\n",
        "    print(f\"{self.name} make a sound\")\n",
        "\n",
        "#single inheritance\n",
        "class Dog(Animal):\n",
        "  def speak(self):\n",
        "    print(f\"{self.name} says woof!\")\n",
        "\n",
        "#multilevel inheritance\n",
        "class Puppy(Dog):\n",
        "  def speak(self):\n",
        "    print(f\"{self.name} says yip!\")\n",
        "\n",
        "#another base class\n",
        "class Bird:\n",
        "  def __init__(self,name):\n",
        "    self.name=name\n",
        "\n",
        "  def fly(self):\n",
        "     print(f\"{self.name} is flying\")\n",
        "\n",
        "\n",
        "#multiple inheritance\n",
        "#flyingdog is a parent class inherited from dog and bird\n",
        "class Flyingdog(Dog,Bird):\n",
        "  def __init__(self,name):\n",
        "    Dog. __init__(self,name)\n",
        "    Bird. __init__(self,name)\n",
        "\n",
        "  def speak(self):\n",
        "    Dog.speak(self)\n",
        "    Bird.fly(self)\n",
        "\n",
        "\n",
        "#hybrid inheritance\n",
        "\n",
        "class Flyingpuppy(Puppy,Bird):\n",
        "  def __init__(self,name):\n",
        "    Puppy. __init__(self,name)\n",
        "    Bird. __init__(self,name)\n",
        "\n",
        "  def speak(self):\n",
        "    Puppy.speak(self)\n",
        "    Bird.fly(self)\n",
        "\n",
        "dog=Dog('buddy')\n",
        "puppy=Puppy('fluffy')\n",
        "flyingdog = Flyingdog('Sky')\n",
        "flyingpuppy = Flyingpuppy('Tiny')\n",
        "\n",
        "dog.speak()\n",
        "puppy.speak()\n",
        "flyingdog.speak()\n",
        "flyingpuppy.speak()"
      ],
      "metadata": {
        "colab": {
          "base_uri": "https://localhost:8080/"
        },
        "id": "TKl-mWxDiGoS",
        "outputId": "f10ba49a-4d6b-4ba9-ba21-f8fe12d925b6"
      },
      "execution_count": null,
      "outputs": [
        {
          "output_type": "stream",
          "name": "stdout",
          "text": [
            "buddy says woof!\n",
            "fluffy says yip!\n",
            "Sky says woof!\n",
            "Sky is flying\n",
            "Tiny says yip!\n",
            "Tiny is flying\n"
          ]
        }
      ]
    }
  ]
}