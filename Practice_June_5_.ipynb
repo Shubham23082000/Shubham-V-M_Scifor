{
  "nbformat": 4,
  "nbformat_minor": 0,
  "metadata": {
    "colab": {
      "provenance": [],
      "authorship_tag": "ABX9TyMdqLmyTCxy4E7GmrDYw0+K",
      "include_colab_link": true
    },
    "kernelspec": {
      "name": "python3",
      "display_name": "Python 3"
    },
    "language_info": {
      "name": "python"
    }
  },
  "cells": [
    {
      "cell_type": "markdown",
      "metadata": {
        "id": "view-in-github",
        "colab_type": "text"
      },
      "source": [
        "<a href=\"https://colab.research.google.com/github/Shubham23082000/Shubham-V-M_Scifor/blob/main/Practice_June_5_.ipynb\" target=\"_parent\"><img src=\"https://colab.research.google.com/assets/colab-badge.svg\" alt=\"Open In Colab\"/></a>"
      ]
    },
    {
      "cell_type": "code",
      "execution_count": null,
      "metadata": {
        "id": "evolP6UuwpCy"
      },
      "outputs": [],
      "source": []
    },
    {
      "cell_type": "markdown",
      "source": [
        "Practice section of 05-06-2024"
      ],
      "metadata": {
        "id": "Ho81SbXhw2bP"
      }
    },
    {
      "cell_type": "markdown",
      "source": [
        "1. Code on polymorphism"
      ],
      "metadata": {
        "id": "jTgbFOJnw6D_"
      }
    },
    {
      "cell_type": "code",
      "source": [
        "class Bird:\n",
        "    def fly(self):\n",
        "      print('Flyning')\n",
        "\n",
        "class Crow(Bird):\n",
        "    def fly(self):\n",
        "      print('I am a crow')\n",
        "\n",
        "class Duck(Bird):\n",
        "    def fly(self):\n",
        "      print('I am a duck')\n",
        "\n",
        "def birdsflying(status):\n",
        "    status.fly()\n",
        "\n",
        "crow=Crow()\n",
        "duck=Duck()\n",
        "\n",
        "birdsflying(crow)\n",
        "birdsflying(duck)"
      ],
      "metadata": {
        "colab": {
          "base_uri": "https://localhost:8080/"
        },
        "id": "Zuzhm0AJw_To",
        "outputId": "ae059152-5c97-42f8-9456-395dfa189d04"
      },
      "execution_count": null,
      "outputs": [
        {
          "output_type": "stream",
          "name": "stdout",
          "text": [
            "I am a crow\n",
            "I am a duck\n"
          ]
        }
      ]
    },
    {
      "cell_type": "markdown",
      "source": [
        "2. Code in encapsulation"
      ],
      "metadata": {
        "id": "yGiLvovixMSn"
      }
    },
    {
      "cell_type": "code",
      "source": [
        "class Student:\n",
        "  def __init__(self,age,name):\n",
        "    self.__age=age\n",
        "    self.name=name\n",
        "\n",
        "  def get_age(self):\n",
        "    return self.__age\n",
        "\n",
        "s1=Student(23,'John')\n",
        "print(s1.get_age())\n",
        "print(s1.name)"
      ],
      "metadata": {
        "colab": {
          "base_uri": "https://localhost:8080/"
        },
        "id": "dG5vhuUPxOwP",
        "outputId": "3af6d9e2-d132-43bf-b37f-dbc6e15d003e"
      },
      "execution_count": null,
      "outputs": [
        {
          "output_type": "stream",
          "name": "stdout",
          "text": [
            "23\n",
            "John\n"
          ]
        }
      ]
    },
    {
      "cell_type": "markdown",
      "source": [
        "3. Find the factorial of a number by giving input we need."
      ],
      "metadata": {
        "id": "U7Q63z8FxXPH"
      }
    },
    {
      "cell_type": "code",
      "source": [
        "def factorial(n):\n",
        "  if n==0:\n",
        "    return 1\n",
        "  else:\n",
        "    return n*factorial(n-1)\n",
        "\n",
        "num=int(input('Enter a number: '))\n",
        "print(factorial(num))"
      ],
      "metadata": {
        "colab": {
          "base_uri": "https://localhost:8080/"
        },
        "id": "qs80CPeCxb2Q",
        "outputId": "eb153423-1f50-4b54-9bfe-8f395b9ecad5"
      },
      "execution_count": null,
      "outputs": [
        {
          "output_type": "stream",
          "name": "stdout",
          "text": [
            "Enter a number: 1\n",
            "1\n"
          ]
        }
      ]
    },
    {
      "cell_type": "markdown",
      "source": [
        "4.Write a function to reverse the list [2, 3,4]."
      ],
      "metadata": {
        "id": "Ii2vfOCUxgpn"
      }
    },
    {
      "cell_type": "code",
      "source": [
        "\n",
        "def reverse_list(list):\n",
        "  return list[::-1]\n",
        "\n",
        "list=[2,3,4]\n",
        "print(reverse_list(list))"
      ],
      "metadata": {
        "colab": {
          "base_uri": "https://localhost:8080/"
        },
        "id": "CmSLvVEnxjGP",
        "outputId": "a427d537-6198-4239-aca7-734dd8d56472"
      },
      "execution_count": null,
      "outputs": [
        {
          "output_type": "stream",
          "name": "stdout",
          "text": [
            "[4, 3, 2]\n"
          ]
        }
      ]
    },
    {
      "cell_type": "markdown",
      "source": [
        "5.Create a calculator using switch case"
      ],
      "metadata": {
        "id": "G_rnl1mkxl3Y"
      }
    },
    {
      "cell_type": "code",
      "source": [
        "def operation():\n",
        " num1 = int(input(\"Enter your number1: \"))\n",
        " num2 = int(input(\"Enter your number2: \"))\n",
        " option = int(input(\"Enter your option(1-Addition, 2-Subtraction, 3-Multiplication, 4-Division, 5-Module):\"))\n",
        " match option:\n",
        "        case 1:\n",
        "           result= num1+num2\n",
        "\n",
        "        case 2:\n",
        "            result= num1-num2\n",
        "\n",
        "        case 3:\n",
        "            result= num1*num2\n",
        "\n",
        "        case 4:\n",
        "            if num2 == 0:\n",
        "                return \"Error: Division by zero\"\n",
        "            result= num1/num2\n",
        "\n",
        "        case 5:\n",
        "            result= num1%num2\n",
        "\n",
        "        case _:\n",
        "            result ='invalid'\n",
        "\n",
        " return f\"The result is: {result}\"\n"
      ],
      "metadata": {
        "id": "IpL4fRWTxpto"
      },
      "execution_count": null,
      "outputs": []
    },
    {
      "cell_type": "markdown",
      "source": [
        "6. Write a code on python by using a function, search for position of 3 in a list and also add a number and print updated list [2,3,4,5]"
      ],
      "metadata": {
        "id": "L8fCdb4CxwFf"
      }
    },
    {
      "cell_type": "code",
      "source": [
        "def search_and_add(input_list, number_to_add):\n",
        "\n",
        "    if 3 in input_list:\n",
        "        position_of_3 = input_list.index(3)\n",
        "        print(f\"The position of 3 in the list is: {position_of_3}\")\n",
        "    else:\n",
        "        print(\"The number 3 is not in the list.\")\n",
        "\n",
        "    # Add the specified number to the list\n",
        "    input_list.append(number_to_add)\n",
        "\n",
        "    # Print the updated list\n",
        "    print(\"Updated list:\", input_list)\n",
        "\n",
        "my_list = [2, 3, 4, 5]\n",
        "number_to_add = 6\n",
        "search_and_add(my_list, number_to_add)\n"
      ],
      "metadata": {
        "colab": {
          "base_uri": "https://localhost:8080/"
        },
        "id": "jHZnXI4Nxyze",
        "outputId": "1ca34e08-8d40-4e5d-9d27-bc3d3ca1ef09"
      },
      "execution_count": null,
      "outputs": [
        {
          "output_type": "stream",
          "name": "stdout",
          "text": [
            "The position of 3 in the list is: 1\n",
            "Updated list: [2, 3, 4, 5, 6]\n"
          ]
        }
      ]
    }
  ]
}